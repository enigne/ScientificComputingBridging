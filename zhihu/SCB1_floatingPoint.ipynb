{
 "nbformat": 4,
 "nbformat_minor": 2,
 "metadata": {
  "language_info": {
   "name": "python",
   "codemirror_mode": {
    "name": "ipython",
    "version": 3
   },
   "version": "3.7.6-final"
  },
  "orig_nbformat": 2,
  "file_extension": ".py",
  "mimetype": "text/x-python",
  "name": "python",
  "npconvert_exporter": "python",
  "pygments_lexer": "ipython3",
  "version": 3,
  "kernelspec": {
   "name": "python3",
   "display_name": "Python 3"
  }
 },
 "cells": [
  {
   "cell_type": "markdown",
   "metadata": {},
   "source": [
    "# 计算机算数（Computer Arithmetic）\n",
    "\n",
    "数据在计算机内存中都是以二进制数的形式表达的。\n",
    "\n",
    "## 整数\n",
    "\n",
    "很自然的，对于一个给定的整数，可以将它转换为二进制数，从而在计算机中表示。\n",
    "如下图中的8位（8 bits）二进制数，表示\n",
    "$$(01011101)_2=0\\cdot2^7+1\\cdot2^6+0\\cdot2^5+1\\cdot2^4+1\\cdot2^3+1\\cdot2^2+0\\cdot2^1+1\\cdot2^0=(93)_{10}$$\n",
    "\n",
    "从Python3.0起，可以表示的整数的最大值上限被移除，这就意味着我们可以精确表示任何整数。\n",
    "[1](https://docs.python.org/3.1/whatsnew/3.0.html#integers)\n",
    "\n",
    "另外，由于两个整数之间的最小间隔为1（整数的机器精度），因此，与整数有关的加，减，乘法都可以被精确计算，并且没有任何舍入误差。\n",
    "\n",
    "### 例子1: 大整数及其运算\n",
    "\n",
    "**注1**:普通除法运算 `/` 在Python中会默认转换为浮点数，因此并不能保证完全精确。\n",
    "\n",
    "**注2**:整数除法`//`可以保证精确，但是结果只有商，余数可以用`%` 求得。"
   ]
  },
  {
   "cell_type": "code",
   "execution_count": 16,
   "metadata": {},
   "outputs": [
    {
     "output_type": "stream",
     "name": "stdout",
     "text": "a=135791113151719, b=246810\na+b=135791113398529\na-b=135791112904909\naxb=33514604636975766390\na÷b=550184810......195619\n"
    }
   ],
   "source": [
    "a = 135791113151719\n",
    "b = 246810\n",
    "print(f'a={a}, b={b}')\n",
    "print(f'a+b={a+b}')\n",
    "print(f'a-b={a-b}')\n",
    "print(f'axb={a*b}')\n",
    "print(f'a÷b={a//b}......{a%b}')"
   ]
  },
  {
   "cell_type": "markdown",
   "metadata": {},
   "source": [
    "\n",
    "\n",
    "## 浮点数"
   ]
  }
 ]
}