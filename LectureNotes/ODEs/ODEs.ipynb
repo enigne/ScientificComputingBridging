{
 "cells": [
  {
   "cell_type": "markdown",
   "metadata": {},
   "source": [
    "## Van der Pohls euqation\n",
    "https://en.wikipedia.org/wiki/Van_der_Pol_oscillator"
   ]
  },
  {
   "cell_type": "code",
   "execution_count": null,
   "metadata": {},
   "outputs": [],
   "source": [
    "from scipy.integrate import solve_ivp\n",
    "import matplotlib.pyplot as plt\n",
    "import numpy as np\n",
    "\n",
    "\n",
    "def vdp(t, y, la):\n",
    "    return [y[1], 3*(1-y[0]**2)*y[1]-y[0]]\n",
    "\n",
    "t_span = (0, 20)\n",
    "t_eval = np.linspace(t_span[0], t_span[1], 100)\n",
    "\n",
    "y0 = [2, 0]\n",
    "la = 3\n",
    "\n",
    "# Solve for Van der Pohls equation\n",
    "sol = solve_ivp(lambda t,y: vdp(t,y,la), t_span, y0, \n",
    "                method='RK45', t_eval=t_eval)"
   ]
  },
  {
   "cell_type": "code",
   "execution_count": null,
   "metadata": {},
   "outputs": [],
   "source": [
    "saveFigure = True\n",
    "# Plot\n",
    "fig, ax = plt.subplots(1, figsize=(6, 4.5))\n",
    "\n",
    "ax.plot(sol.t,sol.y[0].T )\n",
    "ax.autoscale(enable=True, axis='both', tight=True)\n",
    "ax.set_ylabel(r'$y(t)$')\n",
    "ax.set_xlabel(r'$t$')\n",
    "\n",
    "if saveFigure:\n",
    "    filename = 'vdp.pdf'\n",
    "    fig.savefig(filename, format='pdf', dpi=1000, bbox_inches='tight')"
   ]
  },
  {
   "cell_type": "code",
   "execution_count": null,
   "metadata": {},
   "outputs": [],
   "source": [
    "from scipy.integrate import solve_ivp\n",
    "import matplotlib.pyplot as plt\n",
    "import numpy as np\n",
    "\n",
    "def satellite(t, y, k):\n",
    "    sqt = (y[0]**2+y[1]**2)**(-1.5)\n",
    "    return [y[2], y[3], -k*y[0]*sqt, -k*y[1]*sqt]\n",
    "a = 0\n",
    "b = 10\n",
    "\n",
    "y0 = [a, b, 0.25, 0]\n",
    "k = 10\n",
    "t_span = (0, 100)\n",
    "t_eval = np.linspace(t_span[0], t_span[1], 10000)\n",
    "\n",
    "# Solve for Van der Pohls equation\n",
    "sol = solve_ivp(lambda t,y: satellite(t,y,k), t_span, y0, \n",
    "                method='RK45', t_eval=t_eval)\n",
    "fig, ax = plt.subplots(1, figsize=(6, 4.5))\n",
    "\n",
    "ax.plot(sol.y[0].T,sol.y[1].T )\n",
    "ax.plot(0, 0, 'ro', markersize=10)\n",
    "ax.plot(a, b, 'k*', markersize=10)\n",
    "\n",
    "ax.set_ylabel(r'$y$')\n",
    "ax.set_xlabel(r'$x$')\n"
   ]
  },
  {
   "cell_type": "code",
   "execution_count": null,
   "metadata": {},
   "outputs": [],
   "source": [
    "from scipy.integrate import solve_ivp\n",
    "import matplotlib.pyplot as plt\n",
    "import numpy as np\n",
    "\n",
    "def satellite(t, y, k):\n",
    "    sqt = (y[0]**2+y[1]**2)**(-1.5)\n",
    "    return [y[2], y[3], -k*y[0]*sqt, -k*y[1]*sqt]\n",
    "a = 0\n",
    "b = 10\n",
    "\n",
    "y0 = [a, b, 0.25, 0]\n",
    "k = 10\n",
    "t_span = (0, 100)\n",
    "t_eval = np.linspace(t_span[0], t_span[1], 10000)\n",
    "\n",
    "# Solve for Van der Pohls equation\n",
    "sol = solve_ivp(lambda t,y: satellite(t,y,k), t_span, y0, \n",
    "                method='RK45', t_eval=t_eval)\n",
    "fig, ax = plt.subplots(1, figsize=(6, 4.5))\n",
    "\n",
    "ax.plot(sol.y[0].T,sol.y[1].T )\n",
    "ax.plot(0, 0, 'ro', markersize=10)\n",
    "ax.plot(a, b, 'k*', markersize=10)\n",
    "\n",
    "ax.set_ylabel(r'$y$')\n",
    "ax.set_xlabel(r'$x$')\n"
   ]
  }
 ],
 "metadata": {
  "kernelspec": {
   "display_name": "Python 3",
   "language": "python",
   "name": "python3"
  },
  "language_info": {
   "codemirror_mode": {
    "name": "ipython",
    "version": 3
   },
   "file_extension": ".py",
   "mimetype": "text/x-python",
   "name": "python",
   "nbconvert_exporter": "python",
   "pygments_lexer": "ipython3",
   "version": "3.6.9"
  }
 },
 "nbformat": 4,
 "nbformat_minor": 4
}
