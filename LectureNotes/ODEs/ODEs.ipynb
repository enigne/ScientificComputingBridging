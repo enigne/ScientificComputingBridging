{
 "cells": [
  {
   "cell_type": "markdown",
   "metadata": {},
   "source": [
    "## Van der Pohls euqation\n",
    "https://en.wikipedia.org/wiki/Van_der_Pol_oscillator"
   ]
  },
  {
   "cell_type": "code",
   "execution_count": null,
   "metadata": {},
   "outputs": [],
   "source": [
    "from scipy.integrate import solve_ivp\n",
    "import matplotlib.pyplot as plt\n",
    "import numpy as np\n",
    "\n",
    "saveFigure = False\n",
    "\n",
    "def vdp(t, y, la):\n",
    "    return [y[1], la*(1-y[0]**2)*y[1]-y[0]]"
   ]
  },
  {
   "cell_type": "code",
   "execution_count": null,
   "metadata": {},
   "outputs": [],
   "source": [
    "t_span = (0, 40)\n",
    "\n",
    "y0 = [2, 0]\n",
    "la = 1\n",
    "\n",
    "# Solve for Van der Pohls equation\n",
    "sol_RK = solve_ivp(lambda t,y: vdp(t,y,la), t_span, y0, method='RK45' )\n",
    "sol_BDF = solve_ivp(lambda t,y: vdp(t,y,la), t_span, y0, method='BDF' )\n",
    "\n",
    "# Plot\n",
    "fig, axs = plt.subplots(4, 1, figsize=(8, 8))\n",
    "fig.tight_layout(pad=0, w_pad=0, h_pad=4)\n",
    "\n",
    "ax =axs[0]\n",
    "ax.plot(sol_RK.t,sol_RK.y[0].T )\n",
    "ax.plot(sol_RK.t,sol_RK.y[1].T )\n",
    "ax.autoscale(enable=True, axis='both', tight=True)\n",
    "ax.set_ylabel(r'$y(t)$')\n",
    "ax.set_xlabel(r'$t$')\n",
    "ax.set_title('Solutions of $\\lambda=$' + str(la) + ' with Runge-Kutta')\n",
    "\n",
    "ax =axs[1]\n",
    "ax.plot(sol_BDF.t,sol_BDF.y[0].T )\n",
    "ax.plot(sol_BDF.t,sol_BDF.y[1].T )\n",
    "ax.autoscale(enable=True, axis='both', tight=True)\n",
    "ax.set_ylabel(r'$y(t)$')\n",
    "ax.set_xlabel(r'$t$')\n",
    "ax.set_title('Solutions of $\\lambda=$' + str(la) + ' with BDF')\n",
    "\n",
    "ax =axs[2]\n",
    "ax.plot(sol_RK.t[0:-1], np.diff(sol_RK.t), )\n",
    "ax.autoscale(enable=True, axis='both', tight=True)\n",
    "ax.set_ylabel(r'$\\Delta t$')\n",
    "ax.set_xlabel(r'$t$')\n",
    "ax.set_title('Step sizes with Runge-Kutta for $\\lambda=$' + str(la))\n",
    "\n",
    "ax =axs[3]\n",
    "ax.plot(sol_BDF.t[0:-1], np.diff(sol_BDF.t), )\n",
    "ax.autoscale(enable=True, axis='both', tight=True)\n",
    "ax.set_ylabel(r'$\\Delta t$')\n",
    "ax.set_xlabel(r'$t$')\n",
    "ax.set_title('Step sizes with BDF for $\\lambda=$' + str(la))\n",
    "\n",
    "if saveFigure:\n",
    "    filename = 'vdp_la'+str(la)+'.pdf'\n",
    "    fig.savefig(filename, format='pdf', dpi=1000, bbox_inches='tight')"
   ]
  },
  {
   "cell_type": "markdown",
   "metadata": {},
   "source": [
    "## Satellites Orbit"
   ]
  },
  {
   "cell_type": "code",
   "execution_count": null,
   "metadata": {},
   "outputs": [],
   "source": [
    "from scipy.integrate import solve_ivp\n",
    "import matplotlib.pyplot as plt\n",
    "import numpy as np\n",
    "\n",
    "def satellite(t, y, k):\n",
    "    sqt = (y[0]**2+y[1]**2)**(-1.5)\n",
    "    return [y[2], y[3], -k*y[0]*sqt, -k*y[1]*sqt]\n",
    "a = 0\n",
    "b = 10\n",
    "\n",
    "y0 = [a, b, 0.25, 0]\n",
    "k = 10\n",
    "t_span = (0, 100)\n",
    "t_eval = np.linspace(t_span[0], t_span[1], 10000)\n",
    "\n",
    "# Solve for orbiting equation\n",
    "sol = solve_ivp(lambda t,y: satellite(t,y,k), t_span, y0, \n",
    "                method='RK45', t_eval=t_eval)\n",
    "fig, ax = plt.subplots(1, figsize=(6, 4.5))\n",
    "\n",
    "ax.plot(sol.y[0].T,sol.y[1].T )\n",
    "ax.plot(0, 0, 'ro', markersize=10)\n",
    "ax.plot(a, b, 'k*', markersize=10)\n",
    "\n",
    "ax.set_ylabel(r'$y$')\n",
    "ax.set_xlabel(r'$x$')"
   ]
  },
  {
   "cell_type": "markdown",
   "metadata": {},
   "source": [
    "## Stability Region"
   ]
  },
  {
   "cell_type": "markdown",
   "metadata": {},
   "source": [
    "### Explicit"
   ]
  },
  {
   "cell_type": "code",
   "execution_count": null,
   "metadata": {},
   "outputs": [],
   "source": [
    "# Grid\n",
    "nx, ny = (100, 100)\n",
    "x = np.linspace(-3, 3, nx)\n",
    "y = np.linspace(-3, 3, ny)\n",
    "X, Y = np.meshgrid(x, y)\n",
    "Z = X + Y*1j\n",
    "\n",
    "# Euler Forward\n",
    "EulerF = abs(1+Z)\n",
    "\n",
    "# Heun's method\n",
    "Heuns = abs(0.5*((Z+1)**2+1))\n",
    "\n",
    "# Runge-Kutta 4\n",
    "RK4 = abs(1+Z+0.5*Z**2+Z**3/6+Z**4/24)\n",
    "\n",
    "# Plot\n",
    "fig, ax = plt.subplots(1, figsize=(6, 6))\n",
    "ax.contour(X, Y, EulerF, levels = [1], colors='C0')\n",
    "ax.contour(X, Y, Heuns, levels = [1], colors='C1')\n",
    "ax.contour(X, Y, RK4, levels = [1], colors='C2')\n",
    "\n",
    "ax.set_xlim([-3, 3])\n",
    "ax.set_ylim([-3, 3])\n",
    "ax.grid(True)\n",
    "ax.axhline(y=0, color='k')\n",
    "ax.axvline(x=0, color='k')\n",
    "ax.set_xlabel(r'$\\Re(h\\lambda)$')\n",
    "ax.set_ylabel(r'$\\Im(h\\lambda)$')\n",
    "\n",
    "proxy = [plt.Rectangle((0,0),1,1,fc ='C'+str(pc))  for pc in range(3)]\n",
    "plt.legend(proxy, ['Euler Forward', 'Heuns Method', 'Classical Runge-Kutta 4'], loc='center right')\n",
    "\n",
    "if saveFigure:\n",
    "    filename = 'Explicit.pdf'\n",
    "    fig.savefig(filename, format='pdf', dpi=1000, bbox_inches='tight')"
   ]
  },
  {
   "cell_type": "markdown",
   "metadata": {},
   "source": [
    "### Implicit"
   ]
  },
  {
   "cell_type": "code",
   "execution_count": null,
   "metadata": {},
   "outputs": [],
   "source": [
    "# Euler Backward\n",
    "EulerBack = abs(1/(1-Z))\n",
    "\n",
    "# Trapzoidal method\n",
    "Trap = abs((2+Z)/(2-Z))\n",
    "\n",
    "# Plot\n",
    "fig, ax = plt.subplots(1, figsize=(6, 6))\n",
    "ax.contour(X, Y, EulerBack, levels = [1], colors='C0')\n",
    "ax.contour(X, Y, Trap, levels = [1], colors='C1')\n",
    "\n",
    "ax.set_xlim([-3, 3])\n",
    "ax.set_ylim([-3, 3])\n",
    "ax.grid(True)\n",
    "ax.axhline(y=0, color='k')\n",
    "# ax.axvline(x=0, color='k')\n",
    "ax.set_xlabel(r'$\\Re(h\\lambda)$')\n",
    "ax.set_ylabel(r'$\\Im(h\\lambda)$')\n",
    "\n",
    "proxy = [plt.Rectangle((0,0),1,1,fc ='C'+str(pc))  for pc in range(3)]\n",
    "plt.legend(proxy, ['Euler Backward', 'Trapzoidal Method'], loc='upper right')\n",
    "\n",
    "if saveFigure:\n",
    "    filename = 'Implicit.pdf'\n",
    "    fig.savefig(filename, format='pdf', dpi=1000, bbox_inches='tight')"
   ]
  },
  {
   "cell_type": "markdown",
   "metadata": {},
   "source": [
    "### BDF methods"
   ]
  },
  {
   "cell_type": "code",
   "execution_count": null,
   "metadata": {},
   "outputs": [],
   "source": [
    "n = 500\n",
    "z = np.linspace(0, n-1, n)\n",
    "z = z * 2 *np.pi/n\n",
    "\n",
    "z = np.exp(z*1j)\n",
    "\n",
    "# BDF methods\n",
    "d = 1 - 1.0/z\n",
    "r = 0\n",
    "fig, ax = plt.subplots(1, figsize=(6, 6))\n",
    "# Bdf 1 to 6\n",
    "for i in range(6):\n",
    "    r = r + (d**(i+1))/(i+1)\n",
    "    ax.plot(r.real, r.imag, label='BDF-'+str(i+1))\n",
    "\n",
    "ax.grid(True)\n",
    "ax.axhline(y=0, color='k')\n",
    "ax.axvline(x=0, color='k')\n",
    "ax.set_xlabel(r'$\\Re(h\\lambda)$')\n",
    "ax.set_ylabel(r'$\\Im(h\\lambda)$')\n",
    "plt.legend()\n",
    "\n",
    "if saveFigure:\n",
    "    filename = 'BDF.pdf'\n",
    "    fig.savefig(filename, format='pdf', dpi=1000, bbox_inches='tight')\n",
    "\n",
    "# Zoom in \n",
    "ax.set_xlim([-6, 6])\n",
    "ax.set_ylim([-6, 6])\n",
    "\n",
    "if saveFigure:\n",
    "    filename = 'BDF_zoom.pdf'\n",
    "    fig.savefig(filename, format='pdf', dpi=1000, bbox_inches='tight')"
   ]
  },
  {
   "cell_type": "markdown",
   "metadata": {},
   "source": [
    "## $\\theta$-method"
   ]
  },
  {
   "cell_type": "code",
   "execution_count": null,
   "metadata": {},
   "outputs": [],
   "source": [
    "#  \n",
    "nt = 10\n",
    "ths = np.linspace(0, 1, nt)\n",
    "\n",
    "# Plot\n",
    "fig, ax = plt.subplots(1, figsize=(6, 6))\n",
    "for i in range(nt):\n",
    "    theta = abs((1-(1-ths[i])*Z)/(1+ths[i]*Z))\n",
    "    ax.contour(X, Y, theta, levels = [1], colors='C'+str(i))\n",
    "    \n",
    "ax.set_xlim([-3, 3])\n",
    "ax.set_ylim([-3, 3])\n",
    "ax.grid(True)\n",
    "ax.axhline(y=0, color='k')\n",
    "# ax.axvline(x=0, color='k')\n",
    "ax.set_xlabel(r'$\\Re(h\\lambda)$')\n",
    "ax.set_ylabel(r'$\\Im(h\\lambda)$')\n",
    "\n",
    "proxy = [plt.Rectangle((0,0),1,1,fc ='C'+str(pc))  for pc in range(3)]\n",
    "plt.legend(proxy, ['theta'], loc='upper right')\n",
    "\n",
    "# if saveFigure:\n",
    "#     filename = 'Implicit.pdf'\n",
    "#     fig.savefig(filename, format='pdf', dpi=1000, bbox_inches='tight')"
   ]
  },
  {
   "cell_type": "markdown",
   "metadata": {},
   "source": [
    "## Reaction problem"
   ]
  },
  {
   "cell_type": "code",
   "execution_count": null,
   "metadata": {},
   "outputs": [],
   "source": [
    "def reaction(t, y, s, q, w):\n",
    "    return [s*(y[1]-y[0]*y[1]+y[0]-q*y[0]*y[0]),\n",
    "           1.0/s*(-y[1]-y[0]*y[1]+y[2]),\n",
    "           w*(y[0]-y[2])]"
   ]
  },
  {
   "cell_type": "code",
   "execution_count": null,
   "metadata": {},
   "outputs": [],
   "source": [
    "# Time interval for the simulation\n",
    "t0 = 0\n",
    "t1 = 10\n",
    "t_span = (t0, t1)\n",
    "t_eval = np.linspace(t_span[0], t_span[1], 100)\n",
    "\n",
    "# Initial conditions, e.g. number of predator and prey at time zero\n",
    "alpha0 = 30\n",
    "beta0 = 1\n",
    "gamma0 = 30\n",
    "y0 = [alpha0, beta0, gamma0]\n",
    "\n",
    "# Set parameters \n",
    "s = 77.27;   \n",
    "w = 0.161; \n",
    "q = 8.375e-6; \n",
    "\n",
    "# Solve for Van der Pohls equation\n",
    "sol_BDF = solve_ivp(lambda t,y: reaction(t, y, s, q, w), \n",
    "                t_span, y0, method='BDF')\n",
    "\n",
    "sol_RK = solve_ivp(lambda t,y: reaction(t, y, s, q, w), \n",
    "                t_span, y0, method='RK45')\n",
    "\n",
    "fig, ax = plt.subplots(2, 1, figsize=(6, 6))\n",
    "ax[0].plot(sol_BDF.t, sol_BDF.y.T)\n",
    "ax[1].plot(sol_BDF.t[0:-1], np.diff(sol_BDF.t))\n",
    "\n",
    "fig, ax = plt.subplots(2, 1, figsize=(6, 6))\n",
    "ax[0].plot(sol_RK.t, sol_RK.y.T)\n",
    "ax[1].plot(sol_RK.t[0:-1], np.diff(sol_RK.t))"
   ]
  }
 ],
 "metadata": {
  "kernelspec": {
   "display_name": "Python 3",
   "language": "python",
   "name": "python3"
  },
  "language_info": {
   "codemirror_mode": {
    "name": "ipython",
    "version": 3
   },
   "file_extension": ".py",
   "mimetype": "text/x-python",
   "name": "python",
   "nbconvert_exporter": "python",
   "pygments_lexer": "ipython3",
   "version": "3.6.9"
  }
 },
 "nbformat": 4,
 "nbformat_minor": 4
}
