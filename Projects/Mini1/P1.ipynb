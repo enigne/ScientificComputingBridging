{
 "cells": [
  {
   "cell_type": "markdown",
   "metadata": {},
   "source": [
    "# General Feedback from Last Year"
   ]
  },
  {
   "cell_type": "markdown",
   "metadata": {},
   "source": [
    "* The code was supposed to work for any choice of network, and `.mat` files, not only for the `water4720.mat` and `water6.mat`, no numbers like 4720 in the code, you must find sizes automatically.\n",
    "\n",
    "* You were supposed to use the `while` loop you got.\n",
    "\n",
    "* As you work with the same matrix all the time in the `while` loop, you just do Gaussian elimination of the matrices before the loop, and apply the elimination to the right-hand-sides.\n",
    "\n",
    "* In 2 (and 3) you need to automatically construct a right-hand-side $b$ every time in the loop\n",
    "\n",
    "* The following two loops are exactly the same with the same number of operations\n",
    "1. \n",
    "``` Fortran\n",
    "    while isempty(loop)\n",
    "        ...\n",
    "        p=a\\b;\n",
    "        ...\n",
    "    end\n",
    "``` \n",
    "2. \n",
    "``` Fortran\n",
    "    while isempty(loop)\n",
    "        ...\n",
    "        [L,U,P] = lu(A);\n",
    "        d = L\\(P*b);\n",
    "        x = U\\d;\n",
    "        ...\n",
    "    end\n",
    "```  \n",
    "\n",
    "* Never repeat the same code – it should probably be in a loop\n",
    "* Indent you code\n",
    "* Name on you report!"
   ]
  }
 ],
 "metadata": {
  "kernelspec": {
   "display_name": "Python 3",
   "language": "python",
   "name": "python3"
  },
  "language_info": {
   "codemirror_mode": {
    "name": "ipython",
    "version": 3
   },
   "file_extension": ".py",
   "mimetype": "text/x-python",
   "name": "python",
   "nbconvert_exporter": "python",
   "pygments_lexer": "ipython3",
   "version": "3.6.9"
  }
 },
 "nbformat": 4,
 "nbformat_minor": 4
}
