{
 "cells": [
  {
   "cell_type": "markdown",
   "metadata": {},
   "source": [
    "# Mandatory exercises"
   ]
  },
  {
   "cell_type": "markdown",
   "metadata": {
    "slideshow": {
     "slide_type": "notes"
    }
   },
   "source": [
    "1. \n",
    "    1. Explain briefly the difference between a deterministic and a stochastic method.\n",
    "    2. Give an example of using a stochastic method to solve a deterministic problem.\n",
    "    3. Give an example of a stochastic process?"
   ]
  },
  {
   "cell_type": "markdown",
   "metadata": {
    "ExecuteTime": {
     "end_time": "2019-09-12T15:21:43.119654Z",
     "start_time": "2019-09-12T15:21:43.115287Z"
    }
   },
   "source": [
    "2. The integral\n",
    "\\begin{equation}\n",
    "    I =\\int_0^1x^2e^x\\,\\rm{d}x\n",
    "\\end{equation}\n",
    "can be computed analytically and the exact value is $I=e-2$. \n",
    "We can use this integral as a test case for numerical integration methods, to see how well they are able to approximate $I$. When the Trapeziodal Rule was applied with step size $h = 0.25$, the absolute error in the computed, approximate value of $I$ was ca. $0.04$. \n",
    "Using Simpson’s Rule with the same step size gave an absolute error of ca. $0.0006$. \n",
    "The step size $h = 0.25$ corresponds to using $n = 5$ discretization points.\n",
    "\n",
    "    You should now compute an approximation to $I$ by using the Monte Carlo method that is described in Hellander’s compendium. Use $n = 5$ random values. Compare the approximation to the exact value of $I$. What is the absolute error? Compare to the errors obtained for the Trapezoidal and Simpson’s Rule, respectively.\n",
    "\n",
    "    If you repeat the experiments with more and more random numbers, explain how the error will then behave."
   ]
  },
  {
   "cell_type": "markdown",
   "metadata": {},
   "source": [
    "3. If we compare Monte Carlo with Simpsons rule for integration, for what dimension is it more preferable to use Monte Carlo methods? The error in Simpson is of order $h^4$."
   ]
  },
  {
   "cell_type": "markdown",
   "metadata": {},
   "source": [
    "4. As a model for how the price of a stock changes in time, a so called stochastic differential equation (SDE) is often used. The part of the model that describes the randomness in the value of the stock involves the same Brownian motion as you saw in the lab assignment. Assume that you are given a Matlab/Python function\n",
    "\n",
    "    `function x = f(x0, T)`\n",
    "    \n",
    "    or\n",
    "    \n",
    "    `def f(x0, T):`\n",
    "\n",
    "    that simulates 10 stocks according to an SDE model. The input parameters are the initial value $x_0$ and final time $T$. The vector $x_0$ contains the values of the stocks at initial time $t = 0$. The output parameter $x$ is an array with 10 elements, containing the simulated values of the stocks at time $T$. Write a Matlab/Python script (with pen and paper) that uses a Monte Carlo method to approximate $E_{x,T}$, the expected total value of the portfolio at time $T$. The program should also compute the confidence interval for the computed value, according to formula (9) in Hellander’s compendium. You can use the built in function `std(x)` in Matlab or `numpy.std()` in Python to compute the standard deviation.\n",
    "    \n",
    "    Note: you are not supposed to write the `function x=f(x0, T)`. You should use it to approximate  $E_{x,T}$."
   ]
  },
  {
   "cell_type": "markdown",
   "metadata": {},
   "source": [
    "# Non-mandatory exercises"
   ]
  },
  {
   "cell_type": "markdown",
   "metadata": {},
   "source": [
    "5. In Miniproject 3 we will need to generate random numbers from an exponential distribution\n",
    "\\begin{equation}\n",
    "    f(\\tau;a_0)=\n",
    "    \\begin{cases}\n",
    "        \\begin{split}\n",
    "        &a_0e^{-a_0\\tau}, &\\tau\\ge 0\\\\\n",
    "        &0, &\\tau<0\n",
    "        \\end{split}\n",
    "    \\end{cases}\n",
    "\\end{equation}\n",
    "by using inverse transform sampling. Our goal is to derive a formula to sample exponentially distributed random numbers $\\tau$, given uniformly distributed random numbers $u$.\n",
    "\n",
    "    1. Compute the cumulative distribution function (CDF) $F(t)=P(\\tau\\le t)$ for the exponential distribution.\n",
    "    2. Find the inverse of $F$. That is, for a random number $u$ uniformly distributed in $[0, 1]$ find $\\tau$ such that $F(\\tau) = u$. Then $\\tau = F^{-1} (u)$."
   ]
  }
 ],
 "metadata": {
  "affiliation": "IT department, Uppsala University, Sweden",
  "author": "Cheng Gong",
  "kernelspec": {
   "display_name": "Python 3",
   "language": "python",
   "name": "python3"
  },
  "language_info": {
   "codemirror_mode": {
    "name": "ipython",
    "version": 3
   },
   "file_extension": ".py",
   "mimetype": "text/x-python",
   "name": "python",
   "nbconvert_exporter": "python",
   "pygments_lexer": "ipython3",
   "version": "3.6.9"
  },
  "latex_envs": {
   "LaTeX_envs_menu_present": true,
   "autoclose": true,
   "autocomplete": true,
   "bibliofile": "biblio.bib",
   "cite_by": "apalike",
   "current_citInitial": 1,
   "eqLabelWithNumbers": true,
   "eqNumInitial": 1,
   "hotkeys": {
    "equation": "Ctrl-E",
    "itemize": "Ctrl-I"
   },
   "labels_anchors": false,
   "latex_user_defs": false,
   "report_style_numbering": false,
   "user_envs_cfg": false
  },
  "title": "Workout 4: Monte Carlo Methods",
  "toc": {
   "base_numbering": 1,
   "nav_menu": {},
   "number_sections": true,
   "sideBar": true,
   "skip_h1_title": false,
   "title_cell": "Table of Contents",
   "title_sidebar": "Contents",
   "toc_cell": false,
   "toc_position": {},
   "toc_section_display": true,
   "toc_window_display": true
  },
  "varInspector": {
   "cols": {
    "lenName": 16,
    "lenType": 16,
    "lenVar": 40
   },
   "kernels_config": {
    "python": {
     "delete_cmd_postfix": "",
     "delete_cmd_prefix": "del ",
     "library": "var_list.py",
     "varRefreshCmd": "print(var_dic_list())"
    },
    "r": {
     "delete_cmd_postfix": ") ",
     "delete_cmd_prefix": "rm(",
     "library": "var_list.r",
     "varRefreshCmd": "cat(var_dic_list()) "
    }
   },
   "types_to_exclude": [
    "module",
    "function",
    "builtin_function_or_method",
    "instance",
    "_Feature"
   ],
   "window_display": false
  }
 },
 "nbformat": 4,
 "nbformat_minor": 4
}
