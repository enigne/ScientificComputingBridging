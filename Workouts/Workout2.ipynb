{
 "cells": [
  {
   "cell_type": "markdown",
   "metadata": {
    "slideshow": {
     "slide_type": "notes"
    }
   },
   "source": [
    "# Mandatory exercises"
   ]
  },
  {
   "cell_type": "markdown",
   "metadata": {
    "slideshow": {
     "slide_type": "notes"
    }
   },
   "source": [
    "1. Consider the ODE\n",
    "\\begin{equation}\n",
    "    \\begin{split}\n",
    "        y'-y-t=0,\\\\\n",
    "        y(0)=0\n",
    "    \\end{split}\n",
    "\\end{equation}\n",
    "\n",
    "    1. Use forward Euler method to compute an approximation of the solution at $t=0.2$ with step size $h=0.1$.\n",
    "    2. Use backward Euler method to compute an approximation of the solution at $t=0.2$ with step size $h=0.1$.\n",
    "    3. Use classical Runge-Kutta method to compute an approximation of the solution at $t=0.1$ with step size $h=0.1$."
   ]
  },
  {
   "cell_type": "markdown",
   "metadata": {
    "ExecuteTime": {
     "end_time": "2019-09-12T15:21:43.119654Z",
     "start_time": "2019-09-12T15:21:43.115287Z"
    }
   },
   "source": [
    "2. Consider the ODE\n",
    "\\begin{equation}\n",
    "    \\begin{split}\n",
    "        y'-cos(yt)=0,\\\\\n",
    "        y(0)=0\n",
    "    \\end{split}\n",
    "\\end{equation}\n",
    "Write down the backward Euler formula to solve the ODE. Comparing with problem 1.2, what is the difficulty here?"
   ]
  },
  {
   "cell_type": "markdown",
   "metadata": {},
   "source": [
    "3. Ordinary differential equations can be used to describe the movement of a satellite around a planet. Let $x(t)$ and $y(t)$ denote the $x$ and $y$ coordinate, respectively, for the satellite position at time $t$. The planet’s position is at the origin. Then the following model describes how the position of the satellite changes with time:\n",
    "\\begin{equation}\n",
    "    \\begin{split}\n",
    "        x''(t)= -k\\frac{x(t)}{\\left(\\sqrt{x(t)^2+y(t)^2}\\right)^3}\\\\\n",
    "        y''(t)= -k\\frac{y(t)}{\\left(\\sqrt{x(t)^2+y(t)^2}\\right)^3}\n",
    "    \\end{split}\n",
    "\\end{equation}\n",
    "For simplicity, assume that $k = 1$. The initial time is $t = 0$, the initial satellite position $(x(0), y(0)) = (a, b)$ and the initial velocity in the $x$-and $y$-directions $(x'(0), y'(0)) = (c, d)$.\n",
    "\n",
    "    1. Formulate the model above as a system of first order ordinary differential equations. Remember initial conditions.\n",
    "    2. (*) Describe how you can use the model to simulate the satellite orbit around the planet for $0\\leq t\\leq100$ with the help of Matlab’s built-in function `ode45` or Python function `scipy.integrate.solve_ivp`. You do not have to write a complete program. It is enough to write the code for representing the mathematical model and to show how `ode45` or `scipy.integrate.solve_ivp` can be called to solve the ODE system.\n",
    "    3. (*) You wrote a code for the SIR model in the lab session. Can you use that code to simulate the movement of a satellite around a planet?"
   ]
  },
  {
   "cell_type": "markdown",
   "metadata": {},
   "source": [
    "# Non-mandatory exercises"
   ]
  },
  {
   "cell_type": "markdown",
   "metadata": {},
   "source": [
    "4. Implement the forward Euler method in Matlab/Python. For simplicity we consider scalar ODEs. The function header should be: \n",
    "```Fortran\n",
    "function [t, y] = euler(f,a,b,y0,n)\n",
    "```\n",
    "or \n",
    "```python\n",
    "def euler(f,a,b,y0,n):\n",
    "    ...\n",
    "    return [t, y]\n",
    "```\n",
    "The input parameter `f` should be a function handle to a Matlab/Python function evaluating the right-hand side of the ODE. The values `a` and `b` represent\n",
    "initial time and final time, respectively. The last input parameter, `n`, is the number of time steps.\n",
    "The output parameter `y` is a vector, where $y_k$ is the approximate solution at time step `k`, $k = 0,\\dots, n$."
   ]
  },
  {
   "cell_type": "markdown",
   "metadata": {},
   "source": [
    "5. What modifications would be required in your function `euler`, to make it able to handle *a system* of ODEs?"
   ]
  },
  {
   "cell_type": "markdown",
   "metadata": {},
   "source": [
    "6. Your next task is to simulate how an object is winched from the ground and into a helicopter. As the object is winched, it will make a pendular movement under the helicopter. Consequently, this process can be modelled as a variable–length pendulum:\n",
    "\\begin{equation}\n",
    "    \\theta''(t)+2\\frac{r'(t)}{r(t)}\\theta'(t)+\\frac{g}{r(t)}\\sin(\\theta(t))=0\n",
    "\\end{equation}\n",
    "where $\\theta(t)$ is the angle of the pendulum, $r(t)$ is the length of the pendulum, and $g$ is the gravity. The winching is represented by a ”winching\n",
    "strategy” in the form of a model for how $r'(t)$ varies with time. This gives an additional differential equation:\n",
    "\\begin{equation}\n",
    "    r'(t)=f(t,\\theta(t),\\theta'(t)).\n",
    "\\end{equation}\n",
    "The purpose of the simulation is to investigate the effect of different winching strategies.\n",
    "Suppose that you are to use Heun’s method to simulate how the object is winched to the helicopter. Your present task is to give a detailed\n",
    "description of how to apply Heun’s method to this problem. (Note: this is a purely theoretical exercise. You are not required to carry out the\n",
    "computations, only to describe the approach in principle.)"
   ]
  }
 ],
 "metadata": {
  "affiliation": "IT department, Uppsala University, Sweden",
  "author": "Cheng Gong",
  "kernelspec": {
   "display_name": "Python 3",
   "language": "python",
   "name": "python3"
  },
  "language_info": {
   "codemirror_mode": {
    "name": "ipython",
    "version": 3
   },
   "file_extension": ".py",
   "mimetype": "text/x-python",
   "name": "python",
   "nbconvert_exporter": "python",
   "pygments_lexer": "ipython3",
   "version": "3.6.9"
  },
  "latex_envs": {
   "LaTeX_envs_menu_present": true,
   "autoclose": true,
   "autocomplete": true,
   "bibliofile": "biblio.bib",
   "cite_by": "apalike",
   "current_citInitial": 1,
   "eqLabelWithNumbers": true,
   "eqNumInitial": 1,
   "hotkeys": {
    "equation": "Ctrl-E",
    "itemize": "Ctrl-I"
   },
   "labels_anchors": false,
   "latex_user_defs": false,
   "report_style_numbering": false,
   "user_envs_cfg": false
  },
  "title": "Workout 2: Ordinary Differential Equations, Part 1",
  "toc": {
   "base_numbering": 1,
   "nav_menu": {},
   "number_sections": true,
   "sideBar": true,
   "skip_h1_title": false,
   "title_cell": "Table of Contents",
   "title_sidebar": "Contents",
   "toc_cell": false,
   "toc_position": {},
   "toc_section_display": true,
   "toc_window_display": true
  },
  "varInspector": {
   "cols": {
    "lenName": 16,
    "lenType": 16,
    "lenVar": 40
   },
   "kernels_config": {
    "python": {
     "delete_cmd_postfix": "",
     "delete_cmd_prefix": "del ",
     "library": "var_list.py",
     "varRefreshCmd": "print(var_dic_list())"
    },
    "r": {
     "delete_cmd_postfix": ") ",
     "delete_cmd_prefix": "rm(",
     "library": "var_list.r",
     "varRefreshCmd": "cat(var_dic_list()) "
    }
   },
   "types_to_exclude": [
    "module",
    "function",
    "builtin_function_or_method",
    "instance",
    "_Feature"
   ],
   "window_display": false
  }
 },
 "nbformat": 4,
 "nbformat_minor": 4
}
