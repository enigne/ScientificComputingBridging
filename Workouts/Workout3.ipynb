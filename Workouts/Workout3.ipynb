{
 "cells": [
  {
   "cell_type": "markdown",
   "metadata": {
    "slideshow": {
     "slide_type": "notes"
    }
   },
   "source": [
    "# Mandatory exercises"
   ]
  },
  {
   "cell_type": "markdown",
   "metadata": {
    "slideshow": {
     "slide_type": "notes"
    }
   },
   "source": [
    "1. Consider the ODE\n",
    "\\begin{equation}\n",
    "    \\begin{split}\n",
    "        y'(t)+1000y(t)=0,\\quad 0\\leq t\\leq2\\\\\n",
    "        y(0)=0.5,\n",
    "    \\end{split}\n",
    "\\end{equation}\n",
    "solved numerically by a numerical method with a step size $h$.\n",
    "\n",
    "    1. What is the step size restriction by stability if we use the forward Euler method?\n",
    "    2. What is the step size restriction by stability if we use the backward Euler method? What other factors should we consider when choosing the step size?\n",
    "    "
   ]
  },
  {
   "cell_type": "markdown",
   "metadata": {
    "ExecuteTime": {
     "end_time": "2019-09-12T15:21:43.119654Z",
     "start_time": "2019-09-12T15:21:43.115287Z"
    }
   },
   "source": [
    "2. The numerical scheme\n",
    "\\begin{equation}\n",
    "    \\begin{split}\n",
    "        y_{i+1}=y_i-hky_i,\n",
    "    \\end{split}\n",
    "\\end{equation}\n",
    "is used to approximate the differential equation $y'(t)=-ky(t)$ with step size $h$. What is the order of accuracy for this approximation? Motivate your answer by the analysis of the local truncation error."
   ]
  },
  {
   "cell_type": "markdown",
   "metadata": {},
   "source": [
    "3. Heun’s method can be written as\n",
    "\\begin{equation}\n",
    "    y_{i+1}=y_i+\\frac{h}{2}(f(t_i,y_i)+f(t_{i+1},\\tilde{y}_{i+1})),\n",
    "\\end{equation}\n",
    "where $\\tilde{y}_{i+1}=y_i+hf(t_i,y_i)$. Is Heun’s method an explicit method or an implicit method? Is it unconditionally stable? Motivate your answer by the stability analysis of the test equation\n",
    "\\begin{equation}\n",
    "    \\begin{split}\n",
    "        y'(t) = -\\lambda y,\\, \\mathcal{R}(\\lambda)>0\\\\\n",
    "        y(0)=y_0.\n",
    "    \\end{split}\n",
    "\\end{equation}"
   ]
  },
  {
   "cell_type": "markdown",
   "metadata": {},
   "source": [
    "# Non-mandatory exercises"
   ]
  },
  {
   "cell_type": "markdown",
   "metadata": {},
   "source": [
    "4. The following is a model for how an infectuous disease spreads in a population:\n",
    "\\begin{equation}\n",
    "    P'=(k+0.1\\sin(t))P(C-P).\n",
    "\\end{equation}\n",
    "Here, $P(t)$ represents the total number of individuals who have had the infection at time $t$ and $C$ is the total number of individuals in the population. The parameter $k$ represents the risk of becoming infected and the sinus function models seasonal variation in susceptibility to infection.\n",
    "\n",
    "    1. Let $g(t,P)$ denote the right-hand side in the differential equation above. Then, a family of numerical methods for solving the equation can be expressed as:\\begin{equation}P_{k+1}=P_k+h(c_1g(t_k,P_k)+c_2g(t_{k+1},P_{k+1})).\\end{equation} Each specific choice of values $c_1$ and $c_2$ yields a specific method within this family. For what values of $c_1$ and $c_2$ , respectively, will you get (i) an explicit method; (ii) an implicit method.\n",
    "    2. What values of $c_1$ and $c_2$, respectively, will yield a consistent method?\n",
    "    3. There is a limit to the order of accuracy that can be obtained within this family of methods. What is the best order of accuracy and what values of $c_1$ and $c_2$ are required to obtain it?"
   ]
  },
  {
   "cell_type": "markdown",
   "metadata": {},
   "source": [
    "5. Suppose that you are to solve an ODE problem by means of the Explicit Euler method, and that you choose a step size $h = h_0$ that is too large, so that the approximate solution obtained is not sufficiently accurate compared to the tolerance level you have set for this problem. You should now consider the following alternative strategies to improve the accuracy:\n",
    "    1. Reduce the step size to $h = ch_0$ , where $0 < c < 1$, so that Explicit Euler will give sufficient accuracy.\n",
    "    2. Keep the step size $h = h_0$ but change to Heun’s method, assuming that Heun’s method is sufficiently accurate with that step size.\n",
    "    \n",
    "Since both alternatives will give a solution within the given tolerance,\n",
    "you should use the strategy that results in the shortest execution time.\n",
    "Which alternative will you then choose? (There is no exact answer\n",
    "to this question, but you could make a rough analysis to find out\n",
    "approximately how small c would have to be in order for the second\n",
    "alternative to be preferable.)"
   ]
  }
 ],
 "metadata": {
  "affiliation": "IT department, Uppsala University, Sweden",
  "author": "Cheng Gong",
  "kernelspec": {
   "display_name": "Python 3",
   "language": "python",
   "name": "python3"
  },
  "language_info": {
   "codemirror_mode": {
    "name": "ipython",
    "version": 3
   },
   "file_extension": ".py",
   "mimetype": "text/x-python",
   "name": "python",
   "nbconvert_exporter": "python",
   "pygments_lexer": "ipython3",
   "version": "3.6.9"
  },
  "latex_envs": {
   "LaTeX_envs_menu_present": true,
   "autoclose": true,
   "autocomplete": true,
   "bibliofile": "biblio.bib",
   "cite_by": "apalike",
   "current_citInitial": 1,
   "eqLabelWithNumbers": true,
   "eqNumInitial": 1,
   "hotkeys": {
    "equation": "Ctrl-E",
    "itemize": "Ctrl-I"
   },
   "labels_anchors": false,
   "latex_user_defs": false,
   "report_style_numbering": false,
   "user_envs_cfg": false
  },
  "title": "Workout 3: Ordinary Differential Equations, Part 2",
  "toc": {
   "base_numbering": 1,
   "nav_menu": {},
   "number_sections": true,
   "sideBar": true,
   "skip_h1_title": false,
   "title_cell": "Table of Contents",
   "title_sidebar": "Contents",
   "toc_cell": false,
   "toc_position": {},
   "toc_section_display": true,
   "toc_window_display": true
  },
  "varInspector": {
   "cols": {
    "lenName": 16,
    "lenType": 16,
    "lenVar": 40
   },
   "kernels_config": {
    "python": {
     "delete_cmd_postfix": "",
     "delete_cmd_prefix": "del ",
     "library": "var_list.py",
     "varRefreshCmd": "print(var_dic_list())"
    },
    "r": {
     "delete_cmd_postfix": ") ",
     "delete_cmd_prefix": "rm(",
     "library": "var_list.r",
     "varRefreshCmd": "cat(var_dic_list()) "
    }
   },
   "types_to_exclude": [
    "module",
    "function",
    "builtin_function_or_method",
    "instance",
    "_Feature"
   ],
   "window_display": false
  }
 },
 "nbformat": 4,
 "nbformat_minor": 4
}
