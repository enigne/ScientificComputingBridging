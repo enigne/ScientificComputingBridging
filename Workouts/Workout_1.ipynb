{
 "cells": [
  {
   "cell_type": "markdown",
   "metadata": {
    "slideshow": {
     "slide_type": "notes"
    }
   },
   "source": [
    "# Mandatory exercises"
   ]
  },
  {
   "cell_type": "markdown",
   "metadata": {},
   "source": [
    "Consider the system $Ax = b$ where\n",
    "\\begin{equation}\n",
    "    A=\\begin{bmatrix}\n",
    "        2 & 1 & 2\\\\\n",
    "        1 & 0 & 3\\\\\n",
    "        4 & -3 & -1\n",
    "    \\end{bmatrix}\n",
    "    \\text{ and }\n",
    "    b=\\begin{bmatrix}\n",
    "        -3\\\\\n",
    "        1\\\\\n",
    "        -6\n",
    "    \\end{bmatrix}\n",
    "\\end{equation}"
   ]
  },
  {
   "cell_type": "markdown",
   "metadata": {},
   "source": [
    "1. Perform the $LU$-factorization of the matrix $A$ by using Gaussian elimination with partial pivoting. Conclude by specifying $L$, $U$, and the permutation matrix $P$ . How is $A$ related to the matrices $L, U$ and $P$?"
   ]
  },
  {
   "cell_type": "markdown",
   "metadata": {
    "ExecuteTime": {
     "end_time": "2019-09-12T15:21:43.119654Z",
     "start_time": "2019-09-12T15:21:43.115287Z"
    }
   },
   "source": [
    "2. Use $L$, $U$, and $P$ to solve the system $Ax = b$."
   ]
  },
  {
   "cell_type": "markdown",
   "metadata": {},
   "source": [
    "3. Suppose that you have represented the system of equations $Ax = b$ by storing variables $A$ and $b$.\n",
    "    1. Write the Matlab command that solves the system using Matlab’s 'backslash' operator and stores the result in the variable $x$.\n",
    "    2. Write the Matlab command that LU-factorizes the matrix. Then, write the commands that use the result of the LU-factorization to solve $Ax = b$."
   ]
  },
  {
   "cell_type": "markdown",
   "metadata": {},
   "source": [
    "## If you have time"
   ]
  },
  {
   "cell_type": "markdown",
   "metadata": {},
   "source": [
    "4. Perform the LU-factorization as in Exercise 1 above. However, instead of the permutation matrix $P$ , you should use a vector `piv` to keep track of the pivoting information. Write a script that uses `L`, `U` and `piv` to solve $Ax = b$. "
   ]
  },
  {
   "cell_type": "markdown",
   "metadata": {},
   "source": [
    "5. It is important that computational algorithms are efficient with regard to both (1) floating point operations and (2) memory requirements, and that they (3) are stable. For each of these aspects, mention some feature(s) of the algorithm used in Exercise 1 relating to that aspect."
   ]
  },
  {
   "cell_type": "markdown",
   "metadata": {},
   "source": [
    "6. True or false? (Give arguments to support your claim):\n",
    "    1. You can improve the conditioning of a coefficient matrix by increasing the precision in the floating point number representation.\n",
    "    2. Pivoting improves the condition number of the coefficient matrix.\n",
    "    3. Pivoting improves the accuracy of the solution obtained."
   ]
  },
  {
   "cell_type": "markdown",
   "metadata": {},
   "source": [
    "# Non-mandatory exercises"
   ]
  },
  {
   "cell_type": "markdown",
   "metadata": {},
   "source": [
    "7. Suppose that you are going to compute the forces in a truss structure. This leads to a system of linear equations, where the right-hand side contains the external forces acting on the truss. We consider a case where the coefficient matrix has condition number cond$_1(A)\\approx10^3$ and the right-hand side is as follows (only two external forces acting on the truss):\n",
    "$$\n",
    "    b=\\begin{bmatrix}\n",
    "        0\\\\\n",
    "        \\vdots\\\\\n",
    "        0\\\\\n",
    "        5000\\\\\n",
    "        0\\\\\n",
    "        6000\\\\\n",
    "        0\\\\\n",
    "        \\vdots\\\\\n",
    "        0\n",
    "    \\end{bmatrix}\n",
    "$$ \n",
    "    1. The forces are measured in Newton (N), with an accuracy of $\\pm$ 0.005N. What is the upper bound of the relative error in the right-hand side, in the 1-norm?\n",
    "    2. Suppose that you want the solution to be computed with a relative error no larger than 1%, using the 1-norm. Can that be guaranteed in this case?\n",
    "    3. What would be the upper bound of the relative error in the solution if the condition number was ca. $10^6$?"
   ]
  },
  {
   "cell_type": "markdown",
   "metadata": {},
   "source": [
    "8. In what situations will you get a shorter execution time by using LU-factorization? Express the time gain as a formula in terms of suitable parameters."
   ]
  },
  {
   "cell_type": "markdown",
   "metadata": {},
   "source": [
    "9. The lab session for this course module contains an example concerning a diving board. In that application, the mathematical model after discretization is a system of linear equations where the coefficient matrix has a band structure. In addition, the matrix has further properties that make pivoting unnecessary. This is a very common situation in computer simulations. In such cases,the system of equations can be solved much faster if the band structure is taken advantage of. You should now investigate this in detail for the special case of a tridiagonal matrix A, assuming that pivoting is not required. An efficient implementation of Gaussian elimination for this case should make use of the fact that most of the elements in the lower triangle of A are already zero. Sketch a psuedo code for how to LU-factorize A when the tri-diagonal structure is taken into account. You can follow the lecture note or look up for the Thomas algorithm."
   ]
  },
  {
   "cell_type": "markdown",
   "metadata": {},
   "source": [
    "10. Show that by using the algorithm from the previous exercise, you will only need ca. $3n$ floating point operations to LU-factorize the tri-diagonal matrix $A$."
   ]
  },
  {
   "cell_type": "markdown",
   "metadata": {},
   "source": [
    "11. We now consider the general case, where $A$ is a full $n\\times n$ matrix. Make your own, efficient implementation of LU-factorization with partial pivoting, in such a way that no explicit swapping of rows takes place. Use the integer vector piv to keep track of the ordering of the rows. Sketch your algorithm in pseudo code."
   ]
  }
 ],
 "metadata": {
  "affiliation": "IT department, Uppsala University, Sweden",
  "author": "Cheng Gong",
  "kernelspec": {
   "display_name": "Python 3",
   "language": "python",
   "name": "python3"
  },
  "language_info": {
   "codemirror_mode": {
    "name": "ipython",
    "version": 3
   },
   "file_extension": ".py",
   "mimetype": "text/x-python",
   "name": "python",
   "nbconvert_exporter": "python",
   "pygments_lexer": "ipython3",
   "version": "3.6.9"
  },
  "latex_envs": {
   "LaTeX_envs_menu_present": true,
   "autoclose": true,
   "autocomplete": true,
   "bibliofile": "biblio.bib",
   "cite_by": "apalike",
   "current_citInitial": 1,
   "eqLabelWithNumbers": true,
   "eqNumInitial": 1,
   "hotkeys": {
    "equation": "Ctrl-E",
    "itemize": "Ctrl-I"
   },
   "labels_anchors": false,
   "latex_user_defs": false,
   "report_style_numbering": false,
   "user_envs_cfg": false
  },
  "title": "Workout 1: System of Linear Equations",
  "toc": {
   "base_numbering": 1,
   "nav_menu": {},
   "number_sections": true,
   "sideBar": true,
   "skip_h1_title": false,
   "title_cell": "Table of Contents",
   "title_sidebar": "Contents",
   "toc_cell": false,
   "toc_position": {},
   "toc_section_display": true,
   "toc_window_display": true
  },
  "varInspector": {
   "cols": {
    "lenName": 16,
    "lenType": 16,
    "lenVar": 40
   },
   "kernels_config": {
    "python": {
     "delete_cmd_postfix": "",
     "delete_cmd_prefix": "del ",
     "library": "var_list.py",
     "varRefreshCmd": "print(var_dic_list())"
    },
    "r": {
     "delete_cmd_postfix": ") ",
     "delete_cmd_prefix": "rm(",
     "library": "var_list.r",
     "varRefreshCmd": "cat(var_dic_list()) "
    }
   },
   "types_to_exclude": [
    "module",
    "function",
    "builtin_function_or_method",
    "instance",
    "_Feature"
   ],
   "window_display": false
  }
 },
 "nbformat": 4,
 "nbformat_minor": 4
}
