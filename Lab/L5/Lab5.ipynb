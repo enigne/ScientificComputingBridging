{
 "cells": [
  {
   "cell_type": "code",
   "execution_count": null,
   "metadata": {},
   "outputs": [],
   "source": [
    "import matplotlib.pyplot as plt\n",
    "import numpy as np"
   ]
  },
  {
   "cell_type": "code",
   "execution_count": null,
   "metadata": {},
   "outputs": [],
   "source": [
    "%run ./ODESolvers.py"
   ]
  },
  {
   "cell_type": "markdown",
   "metadata": {},
   "source": [
    "# Accuracy of ODE solvers"
   ]
  },
  {
   "cell_type": "code",
   "execution_count": null,
   "metadata": {},
   "outputs": [],
   "source": [
    "# the ODE\n",
    "def ft1(t, y):\n",
    "    return t*y + t**3\n",
    "\n",
    "# the Exact solution\n",
    "def yExa(t, y0):\n",
    "    return (2+y0)*np.exp(0.5*t**2) - t**2 - 2\n",
    "\n",
    "# initial condition    \n",
    "y0 = np.array([1])"
   ]
  },
  {
   "cell_type": "code",
   "execution_count": null,
   "metadata": {},
   "outputs": [],
   "source": [
    "# number of different sizes of h\n",
    "L = 10 \n",
    "\n",
    "# test accuracy\n",
    "errs_fe = np.zeros(L)\n",
    "errs_he = np.zeros(L)\n",
    "errs_rk = np.zeros(L)\n",
    "h = 0.5**np.linspace(1,L,L)\n",
    "for i in range(L):\n",
    "    errs_fe[i],errs_he[i],errs_rk[i] = testAccuracy(ft1, yExa, y0, 2**(i+1))"
   ]
  },
  {
   "cell_type": "code",
   "execution_count": null,
   "metadata": {},
   "outputs": [],
   "source": [
    "# plot\n",
    "fig, ax = plt.subplots(1, figsize=(6, 6))\n",
    "ax.loglog(h, errs_fe,'-*' )\n",
    "ax.loglog(h, errs_he,'-o' )\n",
    "ax.loglog(h, errs_rk, '-d')\n",
    "\n",
    "ax.set_ylabel(r'$error$')\n",
    "ax.set_xlabel(r'$h$')\n",
    "ax.legend(['Euler Method', 'Heuns Method', 'Classical Runge-Kutta'])\n",
    "# reference orders"
   ]
  },
  {
   "cell_type": "markdown",
   "metadata": {},
   "source": [
    "# Stability"
   ]
  },
  {
   "cell_type": "markdown",
   "metadata": {},
   "source": [
    "Solve $y'=-\\lambda y$ where $\\lambda=50$. $y(0)=1$ and $t\\in[0,1]$."
   ]
  },
  {
   "cell_type": "code",
   "execution_count": null,
   "metadata": {},
   "outputs": [],
   "source": [
    "# the ODE\n",
    "def ft2(t, y, la):\n",
    "    return -la*y\n",
    "# the Exact solution\n",
    "def yExa2(t, y0, la):\n",
    "    return y0*np.exp(-la*t)"
   ]
  },
  {
   "cell_type": "code",
   "execution_count": null,
   "metadata": {},
   "outputs": [],
   "source": [
    "# advection coefficient\n",
    "la = 200\n",
    "print('Stability criterion for explicit Euler method is h<'+str(2/la))"
   ]
  },
  {
   "cell_type": "code",
   "execution_count": null,
   "metadata": {},
   "outputs": [],
   "source": [
    "# Set time step size\n",
    "h = 0.009\n",
    "\n",
    "# initial condition    \n",
    "y0 = np.array([1])\n",
    "\n",
    "# time span\n",
    "t_span=(0, 1)\n",
    "n = np.int32((t_span[1]-t_span[0])/h+1)\n",
    "t = np.linspace(t_span[0], t_span[1], n)\n",
    "\n",
    "# Time steps\n",
    "t_exact = np.linspace(t_span[0], t_span[1], 200)\n",
    "t_num = np.linspace(t_span[0], t_span[1], n)\n",
    "\n",
    "# Exact solution\n",
    "sol_ex = yExa2(t_exact, y0[0], la)\n",
    "# Euler Forward\n",
    "sol_FE = EulerForward(lambda t,y : ft2(t, y, la), t_span, y0, n)\n",
    "# Euler Backward\n",
    "sol_BE = EulerBackward(lambda t,y : ft2(t, y, la), t_span, y0, n)\n",
    "\n",
    "# plot\n",
    "fig, axs = plt.subplots(2, 1, figsize=(6, 6))\n",
    "fig.tight_layout(pad=0, w_pad=0, h_pad=4)\n",
    "\n",
    "# numerical solutions\n",
    "axs[0].plot(t_num, sol_FE[1])\n",
    "axs[1].plot(t_num, sol_BE[1])\n",
    "\n",
    "# analytical solutions\n",
    "for i in range(2):\n",
    "    axs[i].plot(t_exact, sol_ex)\n",
    "    axs[i].set_xlim([t_span[0], t_span[1]])\n",
    "#     axs[i].set_ylim([0, 1])\n",
    "    axs[i].set_xlabel('t')\n",
    "    axs[i].set_ylabel('y')\n",
    "    \n",
    "axs[0].legend(['Explicit Euler','Exact solution'])\n",
    "axs[1].legend(['Implicit Euler','Exact solution'])\n",
    "axs[0].set_title('Explicit Euler with h=' + str(h) + r', $\\lambda=$' + str(la))\n",
    "axs[1].set_title('Implicit Euler with h=' + str(h) + r', $\\lambda=$' + str(la))\n",
    "\n",
    "saveFigure = True\n",
    "if saveFigure:\n",
    "    filename = 'Ex_vs_Im_lam' +str(la) + 'h' + str(h) + '.pdf'\n",
    "    fig.savefig(filename, format='pdf', dpi=1000, bbox_inches='tight')"
   ]
  }
 ],
 "metadata": {
  "kernelspec": {
   "display_name": "Python 3",
   "language": "python",
   "name": "python3"
  },
  "language_info": {
   "codemirror_mode": {
    "name": "ipython",
    "version": 3
   },
   "file_extension": ".py",
   "mimetype": "text/x-python",
   "name": "python",
   "nbconvert_exporter": "python",
   "pygments_lexer": "ipython3",
   "version": "3.6.9"
  }
 },
 "nbformat": 4,
 "nbformat_minor": 4
}
