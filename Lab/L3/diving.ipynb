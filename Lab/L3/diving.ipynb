{
 "cells": [
  {
   "cell_type": "code",
   "execution_count": null,
   "metadata": {},
   "outputs": [],
   "source": [
    "import numpy as np\n",
    "import scipy\n",
    "import scipy.sparse.linalg  \n",
    "import matplotlib.pyplot as plt"
   ]
  },
  {
   "cell_type": "code",
   "execution_count": null,
   "metadata": {},
   "outputs": [],
   "source": [
    "%run linearSystems.py"
   ]
  },
  {
   "cell_type": "code",
   "execution_count": null,
   "metadata": {},
   "outputs": [],
   "source": [
    "# Setup\n",
    "nx = 800\n",
    "L = 4\n",
    "# number of people\n",
    "p = 5\n",
    "# average weight per person\n",
    "v = 75\n",
    "# position of the load\n",
    "pos = L"
   ]
  },
  {
   "cell_type": "code",
   "execution_count": null,
   "metadata": {},
   "outputs": [],
   "source": [
    "# Construct matrix\n",
    "A = trampolinmatris(nx, L)\n",
    "# right hand side\n",
    "b = belastningsvektor(nx, L, p, v, pos)"
   ]
  },
  {
   "cell_type": "code",
   "execution_count": null,
   "metadata": {},
   "outputs": [],
   "source": [
    "# solve the linear systems\n",
    "y = scipy.sparse.linalg.spsolve(A,b)"
   ]
  },
  {
   "cell_type": "code",
   "execution_count": null,
   "metadata": {},
   "outputs": [],
   "source": [
    "# plot\n",
    "fig, ax = plt.subplots(1, figsize=(8, 6))\n",
    "x = np.linspace(0, L, nx)\n",
    "ax.plot(x, y, linewidth=8, color='C1')\n",
    "\n",
    "# create waves\n",
    "xwaves = np.linspace(0, L, 50)\n",
    "waves = -1+0.05*np.random.rand(50);  \n",
    "ax.fill_between(xwaves, -2, waves)\n",
    "\n",
    "# setups\n",
    "ax.set_xlim([0, L])\n",
    "ax.set_ylim([-2, 1])\n",
    "ax.set_title('Diving board deflection')"
   ]
  }
 ],
 "metadata": {
  "kernelspec": {
   "display_name": "Python 3",
   "language": "python",
   "name": "python3"
  },
  "language_info": {
   "codemirror_mode": {
    "name": "ipython",
    "version": 3
   },
   "file_extension": ".py",
   "mimetype": "text/x-python",
   "name": "python",
   "nbconvert_exporter": "python",
   "pygments_lexer": "ipython3",
   "version": "3.6.9"
  }
 },
 "nbformat": 4,
 "nbformat_minor": 4
}
