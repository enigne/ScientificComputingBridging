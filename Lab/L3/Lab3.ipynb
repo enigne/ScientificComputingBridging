{
 "cells": [
  {
   "cell_type": "code",
   "execution_count": null,
   "metadata": {},
   "outputs": [],
   "source": [
    "import numpy as np\n",
    "import scipy\n",
    "import scipy.linalg   # SciPy Linear Algebra Library\n",
    "import timeit\n",
    "import matplotlib.pyplot as plt"
   ]
  },
  {
   "cell_type": "code",
   "execution_count": null,
   "metadata": {},
   "outputs": [],
   "source": [
    "saveFigure = False"
   ]
  },
  {
   "cell_type": "markdown",
   "metadata": {},
   "source": [
    "# Solve linear system of equations"
   ]
  },
  {
   "cell_type": "markdown",
   "metadata": {},
   "source": [
    "Use the ipython build-in magic command `%timeit`"
   ]
  },
  {
   "cell_type": "markdown",
   "metadata": {},
   "source": [
    "Options of [%timeit](https://ipython.readthedocs.io/en/stable/interactive/magics.html#magic-timeit):\n",
    "\n",
    "\n",
    "<!-- * `-c`: use time.clock to measure the time, which is the default on Windows and measures wall time. On Unix, resource.getrusage is used instead and returns the CPU user time. -->\n",
    "* `-n <N>`: execute the given statement N times in a loop. If N is not provided, N is determined so as to get sufficient accuracy.\n",
    "* `-o`: return a `TimeitResult` that can be stored in a variable to inspect the result in more details.\n",
    "* `-p <P>`: use a precision of P digits to display the timing result. Default: 3\n",
    "* `-q`: Quiet, do not print result.\n",
    "* `-r <R>`: number of repeats R, each consisting of N loops, and take the best result. Default: 7\n",
    "* `-t`: use time.time to measure the time, which is the default on Unix. This function measures wall time.\n"
   ]
  },
  {
   "cell_type": "markdown",
   "metadata": {},
   "source": [
    "## LU factorization"
   ]
  },
  {
   "cell_type": "markdown",
   "metadata": {},
   "source": [
    "This program measure the CPU-time when solving a system of equations with `numpy.linalg.solve`, see https://docs.scipy.org/doc/numpy/reference/generated/numpy.linalg.solve.html\n",
    "\n",
    "The solutions are computed with `numpy.linalg.solve` using LAPACK routine `_gesv`, which is designed for solving linear systems with multiple right hand sides.\n",
    "The LU decomposition with partial pivoting and row interchanges is used, see https://software.intel.com/en-us/node/520973."
   ]
  },
  {
   "cell_type": "code",
   "execution_count": null,
   "metadata": {},
   "outputs": [],
   "source": [
    "# Set the range of the problem sizes N\n",
    "NList = [ 500, 1000, 2000, 4000, 8000]\n",
    "\n",
    "# NList = np.arange(1,10)*500"
   ]
  },
  {
   "cell_type": "code",
   "execution_count": null,
   "metadata": {},
   "outputs": [],
   "source": [
    "# Loop for all N\n",
    "invTime = []\n",
    "\n",
    "for i in NList:\n",
    "    A = scipy.random.rand(i,i)\n",
    "    b = scipy.random.rand(i,1)\n",
    "\n",
    "    invTimeTemp = %timeit -r 5 -n 1 -o x = scipy.linalg.solve(A, b)\n",
    "    invTime.append(invTimeTemp)"
   ]
  },
  {
   "cell_type": "code",
   "execution_count": null,
   "metadata": {},
   "outputs": [],
   "source": [
    "# Plot\n",
    "fig, ax = plt.subplots(1)\n",
    "\n",
    "xbar = np.arange(len(NList))\n",
    "\n",
    "for (i, t) in zip(xbar,invTime):\n",
    "    ax.bar(i, t.average,width=0.5,color='C0')\n",
    "    ax.errorbar(i, t.average, yerr=t.stdev,color='C1',linewidth=2)\n",
    "\n",
    "ax.set_xlabel(r'$N$')\n",
    "ax.set_ylabel('CPU time(s)')\n",
    "ax.set_xticks(xbar)\n",
    "ax.set_xticklabels(NList)\n",
    "ax.autoscale(enable=True, axis='y', tight=True)\n",
    "\n",
    "ax.legend(['Average time','Standard Deviations'])\n",
    "\n",
    "if saveFigure:\n",
    "    filename = 'Multiple_LU.pdf'\n",
    "    fig.savefig(filename, format='pdf', dpi=1000, bbox_inches='tight')"
   ]
  },
  {
   "cell_type": "markdown",
   "metadata": {},
   "source": [
    "## Direct inverse vs. LU factorization"
   ]
  },
  {
   "cell_type": "code",
   "execution_count": null,
   "metadata": {},
   "outputs": [],
   "source": [
    "# Set the problem size\n",
    "N = 2000"
   ]
  },
  {
   "cell_type": "code",
   "execution_count": null,
   "metadata": {},
   "outputs": [],
   "source": [
    "# Create the system and right-hand-side for comparison\n",
    "A = scipy.random.rand(N, N)\n",
    "b = scipy.random.rand(N, 1)"
   ]
  },
  {
   "cell_type": "markdown",
   "metadata": {},
   "source": [
    "#### Invert $A$ matrix first"
   ]
  },
  {
   "cell_type": "code",
   "execution_count": null,
   "metadata": {},
   "outputs": [],
   "source": [
    "%%timeit -r 5 -n 1 -o\n",
    "A_inv = scipy.linalg.inv(A)\n",
    "x_inv = scipy.dot(A_inv,b)"
   ]
  },
  {
   "cell_type": "code",
   "execution_count": null,
   "metadata": {},
   "outputs": [],
   "source": [
    "# save the previous cell output\n",
    "time_inv = _"
   ]
  },
  {
   "cell_type": "markdown",
   "metadata": {},
   "source": [
    "#### Use LU factorization"
   ]
  },
  {
   "cell_type": "code",
   "execution_count": null,
   "metadata": {},
   "outputs": [],
   "source": [
    "time_LU = %timeit -r 5 -n 1 -o x_LU = scipy.linalg.solve(A, b)"
   ]
  },
  {
   "cell_type": "code",
   "execution_count": null,
   "metadata": {},
   "outputs": [],
   "source": [
    "print('Execution time for solving a equation system with ' + str(N) + ' equations: ')\n",
    "print('    with x = scipy.linalg.solve(A,b): ' + '{:.3f}'.format(time_LU.average) + '±' + '{:.3f}'.format(time_LU.stdev) + 's')\n",
    "print('    with matrix invers, x=inv(A)*b:   ' + '{:.3f}'.format(time_inv.average) + '±' + '{:.3f}'.format(time_inv.stdev) + 's')\n",
    "print('Matrix invers is a factor ' + '{:.3f}'.format(time_inv.average/time_LU.average) + ' slower')"
   ]
  },
  {
   "cell_type": "markdown",
   "metadata": {},
   "source": [
    "## Tests LU factorization for multiple right-hand-sdie"
   ]
  },
  {
   "cell_type": "code",
   "execution_count": null,
   "metadata": {},
   "outputs": [],
   "source": [
    "# Size of matrix\n",
    "N_LU = 3000\n",
    "repeat = 5"
   ]
  },
  {
   "cell_type": "markdown",
   "metadata": {},
   "source": [
    "### Solve for different rhs each time"
   ]
  },
  {
   "cell_type": "code",
   "execution_count": null,
   "metadata": {},
   "outputs": [],
   "source": [
    "# Solve once\n",
    "A = scipy.random.rand(N_LU, N_LU)\n",
    "b = scipy.random.rand(N_LU, 1)\n",
    "timeLUonce = %timeit -r 5 -n 1 -o x_LU = scipy.linalg.solve(A, b)"
   ]
  },
  {
   "cell_type": "markdown",
   "metadata": {},
   "source": [
    "Solve `repeat` times with different right hand sides."
   ]
  },
  {
   "cell_type": "code",
   "execution_count": null,
   "metadata": {},
   "outputs": [],
   "source": [
    "%%timeit -r 5 -n 1 -o \n",
    "for i in range(repeat):\n",
    "    b = scipy.random.rand(N_LU, 1)\n",
    "    x_solve = scipy.linalg.solve(A, b)"
   ]
  },
  {
   "cell_type": "code",
   "execution_count": null,
   "metadata": {},
   "outputs": [],
   "source": [
    "timeLURepeat = _"
   ]
  },
  {
   "cell_type": "markdown",
   "metadata": {},
   "source": [
    "### Solve for different rhs with L and U saved"
   ]
  },
  {
   "cell_type": "code",
   "execution_count": null,
   "metadata": {},
   "outputs": [],
   "source": [
    "%%timeit -r 5 -n 1 -o \n",
    "P, L, U = scipy.linalg.lu(A)\n",
    "for i in range(repeat):\n",
    "    b = scipy.random.rand(N_LU, 1)\n",
    "    dtemp = scipy.dot(P,b)\n",
    "    d = scipy.linalg.solve_triangular(L, dtemp)\n",
    "    x_LU = scipy.linalg.solve_triangular(U, d)\n"
   ]
  },
  {
   "cell_type": "code",
   "execution_count": null,
   "metadata": {},
   "outputs": [],
   "source": [
    "timeLUSaved = _"
   ]
  },
  {
   "cell_type": "markdown",
   "metadata": {},
   "source": [
    "### Solve all at once"
   ]
  },
  {
   "cell_type": "code",
   "execution_count": null,
   "metadata": {},
   "outputs": [],
   "source": [
    "%%timeit -r 5 -n 1 -o \n",
    "b = scipy.random.rand(N_LU, repeat)\n",
    "x_LUo = scipy.linalg.solve(A, b)"
   ]
  },
  {
   "cell_type": "code",
   "execution_count": null,
   "metadata": {},
   "outputs": [],
   "source": [
    "timeLURepeatOnce = _"
   ]
  },
  {
   "cell_type": "markdown",
   "metadata": {},
   "source": [
    "### Visualize the results"
   ]
  },
  {
   "cell_type": "code",
   "execution_count": null,
   "metadata": {},
   "outputs": [],
   "source": [
    "# Plot\n",
    "fig, ax = plt.subplots(1, figsize=(10, 6))\n",
    "\n",
    "ax.bar(1, timeLUonce.average, width=0.5, color='C0')\n",
    "ax.bar(2, timeLURepeat.average, width=0.5, color='C0')\n",
    "ax.bar(3, timeLUSaved.average, width=0.5, color='C0')\n",
    "ax.bar(4, timeLURepeatOnce.average, width=0.5, color='C0')\n",
    "\n",
    "ax.errorbar(1, timeLUonce.average, timeLUonce.stdev, color='C1')\n",
    "ax.errorbar(2, timeLURepeat.average, timeLURepeat.stdev, color='C1')\n",
    "ax.errorbar(3, timeLUSaved.average, timeLUSaved.stdev, color='C1')\n",
    "ax.errorbar(4, timeLURepeatOnce.average, timeLURepeatOnce.stdev, color='C1')\n",
    "\n",
    "ax.set_title('Execution time for solving one system with ' + str(N_LU) + ' equations')\n",
    "ax.set_ylabel('CPU time(s)')\n",
    "ax.set_xticks([1,2,3,4])\n",
    "ax.set_xticklabels(['Solve one system', \n",
    "                    'Solve ' + str(repeat) + ' systems', \n",
    "                    'LU ' + str(repeat) + ' systems', \n",
    "                    'Solve ' + str(repeat) + ' systems utilize multiple rhs'])\n",
    "ax.autoscale(enable=True, axis='y', tight=True)\n",
    "\n",
    "ax.legend(['Average time','Standard Deviations'])\n",
    "\n",
    "if saveFigure:\n",
    "    filename = 'LU_test.pdf'\n",
    "    fig.savefig(filename, format='pdf', dpi=1000, bbox_inches='tight')"
   ]
  }
 ],
 "metadata": {
  "kernelspec": {
   "display_name": "Python 3",
   "language": "python",
   "name": "python3"
  },
  "language_info": {
   "codemirror_mode": {
    "name": "ipython",
    "version": 3
   },
   "file_extension": ".py",
   "mimetype": "text/x-python",
   "name": "python",
   "nbconvert_exporter": "python",
   "pygments_lexer": "ipython3",
   "version": "3.6.9"
  }
 },
 "nbformat": 4,
 "nbformat_minor": 4
}
