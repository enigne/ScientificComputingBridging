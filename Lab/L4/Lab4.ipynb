{
 "cells": [
  {
   "cell_type": "markdown",
   "metadata": {},
   "source": [
    "# Lab 4 Ordinary Differential Equations, Part 1"
   ]
  },
  {
   "cell_type": "code",
   "execution_count": null,
   "metadata": {},
   "outputs": [],
   "source": [
    "from scipy.integrate import solve_ivp\n",
    "import matplotlib.pyplot as plt\n",
    "import numpy as np"
   ]
  },
  {
   "cell_type": "code",
   "execution_count": null,
   "metadata": {},
   "outputs": [],
   "source": [
    "%run ./ODESolvers.py"
   ]
  },
  {
   "cell_type": "markdown",
   "metadata": {},
   "source": [
    "### Introduction: The basics"
   ]
  },
  {
   "cell_type": "markdown",
   "metadata": {},
   "source": [
    "Consider the given ODE \n",
    "\\begin{equation}\n",
    "    \\begin{cases}\n",
    "    y'(t) = y-\\frac{1}{2}e^{\\frac{t}{2}}\\cdot\\sin(5t)+5e^{\\frac{t}{2}}\\cdot\\cos(5t)\\\\\n",
    "    y(0)=0\n",
    "    \\end{cases}\n",
    "\\end{equation}\n",
    "on the interval $[0,\\pi]$. "
   ]
  },
  {
   "cell_type": "code",
   "execution_count": null,
   "metadata": {},
   "outputs": [],
   "source": [
    "def rhsODEs(t, y):\n",
    "    return y - 0.5*np.exp(0.5*t)*np.sin(5*t)+5*np.exp(0.5*t)*np.cos(5*t)"
   ]
  },
  {
   "cell_type": "code",
   "execution_count": null,
   "metadata": {},
   "outputs": [],
   "source": [
    "# initial condition\n",
    "y0 = [0]\n",
    "\n",
    "# Time steps\n",
    "t_span = (0, np.pi)\n",
    "t_eval = np.linspace(t_span[0], t_span[1], 1000)\n",
    "\n",
    "# Solve for the ODE with R-K method\n",
    "sol_ex = solve_ivp(rhsODEs, t_span, y0, method='RK45', t_eval=t_eval)\n",
    "sol_fe = EulerForward(rhsODEs, t_span, y0, 20)\n",
    "\n",
    "# plot\n",
    "fig, ax = plt.subplots(1, figsize=(6, 4.5))\n",
    "ax.plot(sol_ex.t,sol_ex.y.T )\n",
    "ax.plot(sol_fe[0], sol_fe[1],'r*' )\n",
    "\n",
    "ax.autoscale(enable=True, axis='both', tight=True)\n",
    "ax.set_ylabel(r'$y(t)$')\n",
    "ax.set_xlabel(r'$t$')"
   ]
  },
  {
   "cell_type": "markdown",
   "metadata": {},
   "source": [
    "### Application: Predator and prey"
   ]
  },
  {
   "cell_type": "markdown",
   "metadata": {},
   "source": [
    "Simulating the interaction between predator and prey, described by the Lotka-Volterra ordinary differential equation.\n",
    "\\begin{equation}\n",
    "    \\begin{cases}\n",
    "    y_1'=\\alpha y_1-\\beta y_1y_2\\\\\n",
    "    y_2'=\\delta y_1y_2-\\gamma y_2, \\, t>0\\\\\n",
    "    y_1(0)=\\hat{y_1}\\\\\n",
    "    y_2(0)=\\hat{y_2}\\\\\n",
    "    \\end{cases}\n",
    "\\end{equation}"
   ]
  },
  {
   "cell_type": "code",
   "execution_count": null,
   "metadata": {},
   "outputs": [],
   "source": [
    "def PredPreyODE(t,y,alpha, beta, delta, gamma):\n",
    "    return [alpha*y[0]-beta*y[0]*y[1], \n",
    "            delta*y[0]*y[1]-gamma*y[1]]"
   ]
  },
  {
   "cell_type": "markdown",
   "metadata": {},
   "source": [
    "The ODEs are solved by `scipy.integrate.solve_ivp` which is a solver for initial value problem. See https://docs.scipy.org/doc/scipy/reference/generated/scipy.integrate.solve_ivp.html"
   ]
  },
  {
   "cell_type": "code",
   "execution_count": null,
   "metadata": {},
   "outputs": [],
   "source": [
    "# Time interval for the simulation\n",
    "t0 = 0\n",
    "t1 = 40\n",
    "t_span = (t0, t1)\n",
    "t_eval = np.linspace(t_span[0], t_span[1], 10000)\n",
    "\n",
    "# Initial conditions, e.g. number of predator and prey at time zero\n",
    "pred0 = 40\n",
    "prey0 = 80\n",
    "y0 = [prey0, pred0]\n",
    "\n",
    "# Set parameters alfa, beta, delta, gamma\n",
    "alpha = 0.8;   # Reproduction rate of prey\n",
    "beta = 0.02;  # Mortality rate of predator per prey\n",
    "delta = 0.02; # Reproduction rate of predator per prey\n",
    "gamma = 0.4;  # Mortality rate of predator\n",
    "\n",
    "# Solve for Van der Pohls equation\n",
    "sol = solve_ivp(lambda t,y: PredPreyODE(t, y, alpha, beta, delta, gamma),\n",
    "                t_span, y0, method='RK45', t_eval=t_eval)"
   ]
  },
  {
   "cell_type": "code",
   "execution_count": null,
   "metadata": {},
   "outputs": [],
   "source": [
    "# plot\n",
    "fig, ax = plt.subplots(1, figsize=(6, 4.5))\n",
    "# plot y1 and y2 together\n",
    "ax.plot(sol.t.T,sol.y.T )\n",
    "ax.set_ylabel('Number of predator and prey')\n",
    "ax.set_xlabel('time')"
   ]
  }
 ],
 "metadata": {
  "kernelspec": {
   "display_name": "Python 3",
   "language": "python",
   "name": "python3"
  },
  "language_info": {
   "codemirror_mode": {
    "name": "ipython",
    "version": 3
   },
   "file_extension": ".py",
   "mimetype": "text/x-python",
   "name": "python",
   "nbconvert_exporter": "python",
   "pygments_lexer": "ipython3",
   "version": "3.6.9"
  }
 },
 "nbformat": 4,
 "nbformat_minor": 4
}
