{
 "cells": [
  {
   "cell_type": "code",
   "execution_count": 1,
   "metadata": {
    "ExecuteTime": {
     "end_time": "2019-09-03T16:17:11.817785Z",
     "start_time": "2019-09-03T16:17:11.344797Z"
    }
   },
   "outputs": [],
   "source": [
    "import numpy as np\n",
    "import ipywidgets as widgets\n",
    "import matplotlib.pyplot as plt"
   ]
  },
  {
   "cell_type": "code",
   "execution_count": null,
   "metadata": {
    "ExecuteTime": {
     "end_time": "2019-09-03T16:17:11.826123Z",
     "start_time": "2019-09-03T16:17:11.820982Z"
    }
   },
   "outputs": [],
   "source": [
    "%run ./measureErrors.py\n",
    "saveFigure = True"
   ]
  },
  {
   "cell_type": "markdown",
   "metadata": {},
   "source": [
    "# Lab Exercise 2 for SCB"
   ]
  },
  {
   "cell_type": "markdown",
   "metadata": {},
   "source": [
    "## Errors"
   ]
  },
  {
   "cell_type": "markdown",
   "metadata": {
    "ExecuteTime": {
     "end_time": "2019-09-03T08:34:38.014453Z",
     "start_time": "2019-09-03T08:34:38.012102Z"
    }
   },
   "source": [
    "### Ex 1-3"
   ]
  },
  {
   "cell_type": "markdown",
   "metadata": {},
   "source": [
    "* Try to read `absrelerror()` in `measureErrors.py` and use it for the exercises"
   ]
  },
  {
   "cell_type": "markdown",
   "metadata": {},
   "source": [
    "### Ex. 4 Round-off errors"
   ]
  },
  {
   "cell_type": "code",
   "execution_count": 3,
   "metadata": {
    "ExecuteTime": {
     "end_time": "2019-09-03T16:17:12.089890Z",
     "start_time": "2019-09-03T16:17:12.079975Z"
    }
   },
   "outputs": [],
   "source": [
    "# Generate a random nxn matrix and compute A^{-1}*A which should be I analytically\n",
    "def testErrA(n = 10):\n",
    "    A = np.random.rand(n,n)\n",
    "    Icomp = np.matmul(np.linalg.inv(A),A)\n",
    "    Iexact = np.eye(n)\n",
    "    absrelerror(Iexact, Icomp)"
   ]
  },
  {
   "cell_type": "markdown",
   "metadata": {},
   "source": [
    "#### Random matrix $A$ with size $n=10$"
   ]
  },
  {
   "cell_type": "code",
   "execution_count": 4,
   "metadata": {
    "ExecuteTime": {
     "end_time": "2019-09-03T16:17:12.282693Z",
     "start_time": "2019-09-03T16:17:12.258208Z"
    }
   },
   "outputs": [
    {
     "output_type": "stream",
     "name": "stdout",
     "text": "*------------------------------------------------------------*\nThis program illustrates the absolute and relative error.\n*------------------------------------------------------------*\nAbsolute error: 4.5709093586244925e-15\nRelative error: 1.4454484551432807e-15, or in percent: 1.4454484551432808e-13\n"
    }
   ],
   "source": [
    "testErrA()"
   ]
  },
  {
   "cell_type": "markdown",
   "metadata": {},
   "source": [
    "#### $n=100$"
   ]
  },
  {
   "cell_type": "code",
   "execution_count": null,
   "metadata": {
    "ExecuteTime": {
     "end_time": "2019-09-03T16:17:12.575275Z",
     "start_time": "2019-09-03T16:17:12.490429Z"
    }
   },
   "outputs": [],
   "source": [
    "testErrA(100)"
   ]
  },
  {
   "cell_type": "markdown",
   "metadata": {},
   "source": [
    "#### $n=1000$"
   ]
  },
  {
   "cell_type": "code",
   "execution_count": null,
   "metadata": {
    "ExecuteTime": {
     "end_time": "2019-09-03T16:17:13.682070Z",
     "start_time": "2019-09-03T16:17:12.749366Z"
    }
   },
   "outputs": [],
   "source": [
    "testErrA(1000)"
   ]
  },
  {
   "cell_type": "markdown",
   "metadata": {},
   "source": [
    "<span style=\"color:red\">**Note**:</span> The execution time changes with the size of $n$ almost linearly, but for $n=10000$, it will take much longer time."
   ]
  },
  {
   "cell_type": "markdown",
   "metadata": {
    "ExecuteTime": {
     "end_time": "2019-09-03T09:24:57.597492Z",
     "start_time": "2019-09-03T09:24:57.594469Z"
    }
   },
   "source": [
    "### Ex. 5 Discretization Errors"
   ]
  },
  {
   "cell_type": "markdown",
   "metadata": {},
   "source": [
    "Program that illustrate the concept discretization.\n",
    "\n",
    "Replacing continuous with discrete, i.e. represent a continuous function on a interval with a finite number of points.\n",
    "\n",
    "The density, the number of points is determined by the choice of the discretization parameter $h$."
   ]
  },
  {
   "cell_type": "markdown",
   "metadata": {},
   "source": [
    "#### The step size\n",
    "\n",
    "**TRY**  to change $h$ and see what will happen.  \n",
    "\n",
    "**NOTE**: $h$ should not be too large or too small. A good range is in $[10^{-5},1]$."
   ]
  },
  {
   "cell_type": "code",
   "execution_count": null,
   "metadata": {
    "ExecuteTime": {
     "end_time": "2019-09-03T16:17:13.711756Z",
     "start_time": "2019-09-03T16:17:13.700957Z"
    }
   },
   "outputs": [],
   "source": [
    "h = 0.1"
   ]
  },
  {
   "cell_type": "markdown",
   "metadata": {},
   "source": [
    "#### Discretize and compute the numerical derivatives.\n",
    "\n",
    "Here, the derivative `f'(x)` is computed in a finite number of points on a interval. \n"
   ]
  },
  {
   "cell_type": "code",
   "execution_count": null,
   "metadata": {
    "ExecuteTime": {
     "end_time": "2019-09-03T16:17:13.747258Z",
     "start_time": "2019-09-03T16:17:13.722383Z"
    }
   },
   "outputs": [],
   "source": [
    "# The exact solution\n",
    "N = 400\n",
    "l = 0\n",
    "u = 2\n",
    "x = np.linspace(l, u, N)\n",
    "f_exa = np.exp(x)\n",
    "\n",
    "# check if h is too large or too small\n",
    "if h > 1 or h < 1e-5:\n",
    "    h = 0.5\n",
    "\n",
    "# compute the numerical derivatives\n",
    "xh = np.linspace(l, u, int(abs(u-l)/h))\n",
    "fprimF = ForwardDiff(np.exp, xh, h);"
   ]
  },
  {
   "cell_type": "markdown",
   "metadata": {},
   "source": [
    "#### Use `matplotlib` to visuallize the results. \n",
    "\n",
    "Try to check on [https://matplotlib.org/](https://matplotlib.org/) for mor features, it is really powerful!"
   ]
  },
  {
   "cell_type": "code",
   "execution_count": null,
   "metadata": {
    "ExecuteTime": {
     "end_time": "2019-09-03T16:17:14.622770Z",
     "start_time": "2019-09-03T16:17:13.765449Z"
    }
   },
   "outputs": [],
   "source": [
    "# Plot\n",
    "fig, ax = plt.subplots(1)\n",
    "ax.plot(x, f_exa, color='blue')\n",
    "ax.plot(xh, fprimF, 'ro', clip_on=False)\n",
    "ax.set_xlim([0,2])\n",
    "ax.set_ylim([1,max(fprimF)])\n",
    "ax.set_xlabel(r'$x$')\n",
    "ax.set_ylabel('Derivatives')\n",
    "ax.set_title('Discretization Errors')\n",
    "ax.legend(['Exact Derivatives','Calculated Derivatives'])\n",
    "\n",
    "if saveFigure:\n",
    "    filename = 'DiscretizationError_h' + str(h) + '.pdf'\n",
    "    fig.savefig(filename, format='pdf', dpi=1000, bbox_inches='tight')\n"
   ]
  },
  {
   "cell_type": "markdown",
   "metadata": {},
   "source": [
    "## Computer Arithmetic"
   ]
  },
  {
   "cell_type": "markdown",
   "metadata": {},
   "source": [
    "Machine limits for floating point types use `np.finfo(float)`"
   ]
  },
  {
   "cell_type": "code",
   "execution_count": null,
   "metadata": {
    "ExecuteTime": {
     "end_time": "2019-09-03T16:17:14.635999Z",
     "start_time": "2019-09-03T16:17:14.626193Z"
    }
   },
   "outputs": [],
   "source": [
    "print('machhine epsilon in python is: ' + str(np.finfo(float).eps))"
   ]
  },
  {
   "cell_type": "markdown",
   "metadata": {
    "ExecuteTime": {
     "end_time": "2019-09-03T15:33:20.610194Z",
     "start_time": "2019-09-03T15:33:20.603422Z"
    }
   },
   "source": [
    "The overflow in python is shown by `np.finfo(float).max` and the underflow by `np.finfo(float).tiny`"
   ]
  },
  {
   "cell_type": "code",
   "execution_count": null,
   "metadata": {
    "ExecuteTime": {
     "end_time": "2019-09-03T16:17:14.650414Z",
     "start_time": "2019-09-03T16:17:14.644481Z"
    },
    "scrolled": true
   },
   "outputs": [],
   "source": [
    "print('The largest real number in python is: ' + str(np.finfo(float).max))\n",
    "print('The smallest positive real number in python is: ' + str(np.finfo(float).tiny))"
   ]
  },
  {
   "cell_type": "markdown",
   "metadata": {
    "ExecuteTime": {
     "end_time": "2019-09-03T15:51:59.656611Z",
     "start_time": "2019-09-03T15:51:59.651864Z"
    }
   },
   "source": [
    "Other attributes of `finfo` can be found [here](https://docs.scipy.org/doc/numpy-1.15.1/reference/generated/numpy.finfo.html)"
   ]
  },
  {
   "cell_type": "markdown",
   "metadata": {},
   "source": [
    "## Computation of the derivative"
   ]
  },
  {
   "cell_type": "markdown",
   "metadata": {},
   "source": [
    "The function $f(x) = e^x$ in $x=1$ is used as test function.\n",
    "\n",
    "* forward difference: $\\displaystyle{f'(x)\\approx\\frac{f(x+h)-f(x)}{h}}$\n",
    "* central difference: $\\displaystyle{f'(x)\\approx\\frac{f(x+h)-f(x-h)}{2h}}$\n",
    "* five points difference: $\\displaystyles are $"
   ]
  },
  {
   "cell_type": "markdown",
   "metadata": {},
   "source": [
    "#### Determine the range you would like to experiment with"
   ]
  },
  {
   "cell_type": "code",
   "execution_count": null,
   "metadata": {
    "ExecuteTime": {
     "end_time": "2019-09-03T16:18:41.252204Z",
     "start_time": "2019-09-03T16:18:41.246938Z"
    }
   },
   "outputs": [],
   "source": [
    "# choose h from 0.1 to 10^-t, t>=2\n",
    "t = 15\n",
    "hx = 10**np.linspace(-1,-t, 30)"
   ]
  },
  {
   "cell_type": "markdown",
   "metadata": {},
   "source": [
    "#### Compute the numerical derivatives using the three different schemes"
   ]
  },
  {
   "cell_type": "code",
   "execution_count": null,
   "metadata": {
    "ExecuteTime": {
     "end_time": "2019-09-03T16:17:15.380855Z",
     "start_time": "2019-09-03T16:17:15.365815Z"
    }
   },
   "outputs": [],
   "source": [
    "# The exact derivative at x=1\n",
    "x0 = 1\n",
    "fprimExact = np.exp(1)\n",
    "\n",
    "# Numeric derivative using the three methods\n",
    "fprimF = ForwardDiff(np.exp, x0, hx);\n",
    "fprimC = CentralDiff(np.exp, x0, hx);\n",
    "fprim5 = FivePointsDiff(np.exp, x0, hx);\n",
    "\n",
    "# Relative error\n",
    "felF = abs(fprimExact - fprimF)/abs(fprimExact);\n",
    "felC = abs(fprimExact - fprimC)/abs(fprimExact);\n",
    "fel5 = abs(fprimExact - fprim5)/abs(fprimExact);"
   ]
  },
  {
   "cell_type": "markdown",
   "metadata": {},
   "source": [
    "#### Visualize the results"
   ]
  },
  {
   "cell_type": "code",
   "execution_count": null,
   "metadata": {
    "ExecuteTime": {
     "end_time": "2019-09-03T16:18:24.951931Z",
     "start_time": "2019-09-03T16:18:23.983803Z"
    },
    "slideshow": {
     "slide_type": "slide"
    }
   },
   "outputs": [],
   "source": [
    "# Plot\n",
    "fig, ax = plt.subplots(1)\n",
    "ax.loglog(hx, felF)\n",
    "ax.loglog(hx, felC)\n",
    "ax.loglog(hx, fel5)\n",
    "ax.autoscale(enable=True, axis='x', tight=True)\n",
    "ax.set_xlabel(r'Step length $h$')\n",
    "ax.set_ylabel('Relative error')\n",
    "ax.legend(['Forward difference','Central difference', 'Five points difference'])\n",
    "\n",
    "if saveFigure:\n",
    "    filename = 'NumericalDerivative.pdf'\n",
    "    fig.savefig(filename, format='pdf', dpi=1000, bbox_inches='tight')"
   ]
  }
 ],
 "metadata": {
  "kernelspec": {
   "display_name": "Python 3",
   "language": "python",
   "name": "python3"
  },
  "language_info": {
   "codemirror_mode": {
    "name": "ipython",
    "version": 3
   },
   "file_extension": ".py",
   "mimetype": "text/x-python",
   "name": "python",
   "nbconvert_exporter": "python",
   "pygments_lexer": "ipython3",
   "version": "3.7.6-final"
  },
  "latex_envs": {
   "LaTeX_envs_menu_present": true,
   "autoclose": true,
   "autocomplete": true,
   "bibliofile": "biblio.bib",
   "cite_by": "apalike",
   "current_citInitial": 1,
   "eqLabelWithNumbers": true,
   "eqNumInitial": 1,
   "hotkeys": {
    "equation": "Ctrl-E",
    "itemize": "Ctrl-I"
   },
   "labels_anchors": false,
   "latex_user_defs": false,
   "report_style_numbering": false,
   "user_envs_cfg": false
  },
  "toc": {
   "base_numbering": 1,
   "nav_menu": {},
   "number_sections": true,
   "sideBar": true,
   "skip_h1_title": false,
   "title_cell": "Table of Contents",
   "title_sidebar": "Contents",
   "toc_cell": false,
   "toc_position": {},
   "toc_section_display": true,
   "toc_window_display": true
  },
  "varInspector": {
   "cols": {
    "lenName": 16,
    "lenType": 16,
    "lenVar": 40
   },
   "kernels_config": {
    "python": {
     "delete_cmd_postfix": "",
     "delete_cmd_prefix": "del ",
     "library": "var_list.py",
     "varRefreshCmd": "print(var_dic_list())"
    },
    "r": {
     "delete_cmd_postfix": ") ",
     "delete_cmd_prefix": "rm(",
     "library": "var_list.r",
     "varRefreshCmd": "cat(var_dic_list()) "
    }
   },
   "types_to_exclude": [
    "module",
    "function",
    "builtin_function_or_method",
    "instance",
    "_Feature"
   ],
   "window_display": false
  }
 },
 "nbformat": 4,
 "nbformat_minor": 4
}