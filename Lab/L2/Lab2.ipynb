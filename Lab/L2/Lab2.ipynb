{
 "cells": [
  {
   "cell_type": "code",
   "execution_count": 15,
   "metadata": {
    "ExecuteTime": {
     "end_time": "2019-09-03T16:17:11.817785Z",
     "start_time": "2019-09-03T16:17:11.344797Z"
    }
   },
   "outputs": [],
   "source": [
    "import numpy as np\n",
    "import ipywidgets as widgets\n",
    "import matplotlib.pyplot as plt"
   ]
  },
  {
   "cell_type": "code",
   "execution_count": 16,
   "metadata": {
    "ExecuteTime": {
     "end_time": "2019-09-03T16:17:11.826123Z",
     "start_time": "2019-09-03T16:17:11.820982Z"
    }
   },
   "outputs": [],
   "source": [
    "%run ../../Lab/L2/measureErrors.py\n",
    "saveFigure = True"
   ]
  },
  {
   "cell_type": "markdown",
   "metadata": {},
   "source": [
    "## Errors"
   ]
  },
  {
   "cell_type": "markdown",
   "metadata": {
    "ExecuteTime": {
     "end_time": "2019-09-03T08:34:38.014453Z",
     "start_time": "2019-09-03T08:34:38.012102Z"
    }
   },
   "source": [
    "### Ex 1-3"
   ]
  },
  {
   "cell_type": "markdown",
   "metadata": {},
   "source": [
    "### Ex. 4 Round-off errors"
   ]
  },
  {
   "cell_type": "code",
   "execution_count": 17,
   "metadata": {
    "ExecuteTime": {
     "end_time": "2019-09-03T16:17:12.089890Z",
     "start_time": "2019-09-03T16:17:12.079975Z"
    }
   },
   "outputs": [],
   "source": [
    "def testErrA(n = 10):\n",
    "    A = np.random.rand(n,n)\n",
    "    Icomp = np.matmul(np.linalg.inv(A),A)\n",
    "    Iexact = np.eye(n)\n",
    "    absrelerror(Iexact, Icomp)"
   ]
  },
  {
   "cell_type": "markdown",
   "metadata": {},
   "source": [
    "#### Random matrix $A$ with size $n=10$"
   ]
  },
  {
   "cell_type": "code",
   "execution_count": 18,
   "metadata": {
    "ExecuteTime": {
     "end_time": "2019-09-03T16:17:12.282693Z",
     "start_time": "2019-09-03T16:17:12.258208Z"
    }
   },
   "outputs": [
    {
     "name": "stdout",
     "output_type": "stream",
     "text": [
      "*------------------------------------------------------------*\n",
      "This program illustrates the absolute and relative error.\n",
      "*------------------------------------------------------------*\n",
      "Absolute error: 3.607074220334548e-15\n",
      "Relative error: 1.1406570225533215e-15, or in percent: 1.1406570225533215e-13\n"
     ]
    }
   ],
   "source": [
    "testErrA()"
   ]
  },
  {
   "cell_type": "markdown",
   "metadata": {},
   "source": [
    "#### $n=100$"
   ]
  },
  {
   "cell_type": "code",
   "execution_count": 19,
   "metadata": {
    "ExecuteTime": {
     "end_time": "2019-09-03T16:17:12.575275Z",
     "start_time": "2019-09-03T16:17:12.490429Z"
    }
   },
   "outputs": [
    {
     "name": "stdout",
     "output_type": "stream",
     "text": [
      "*------------------------------------------------------------*\n",
      "This program illustrates the absolute and relative error.\n",
      "*------------------------------------------------------------*\n",
      "Absolute error: 3.3808034506192096e-12\n",
      "Relative error: 3.38080345061921e-13, or in percent: 3.3808034506192097e-11\n"
     ]
    }
   ],
   "source": [
    "testErrA(100)"
   ]
  },
  {
   "cell_type": "markdown",
   "metadata": {},
   "source": [
    "#### $n=1000$"
   ]
  },
  {
   "cell_type": "code",
   "execution_count": 20,
   "metadata": {
    "ExecuteTime": {
     "end_time": "2019-09-03T16:17:13.682070Z",
     "start_time": "2019-09-03T16:17:12.749366Z"
    }
   },
   "outputs": [
    {
     "name": "stdout",
     "output_type": "stream",
     "text": [
      "*------------------------------------------------------------*\n",
      "This program illustrates the absolute and relative error.\n",
      "*------------------------------------------------------------*\n",
      "Absolute error: 8.47487479860293e-11\n",
      "Relative error: 2.679990724834604e-12, or in percent: 2.6799907248346043e-10\n"
     ]
    }
   ],
   "source": [
    "testErrA(1000)"
   ]
  },
  {
   "cell_type": "markdown",
   "metadata": {},
   "source": [
    "<span style=\"color:red\">**Note**:</span> The execution time changes with the size of $n$ almost linearly, but for $n=10000$, it will take much longer time."
   ]
  },
  {
   "cell_type": "markdown",
   "metadata": {
    "ExecuteTime": {
     "end_time": "2019-09-03T09:24:57.597492Z",
     "start_time": "2019-09-03T09:24:57.594469Z"
    }
   },
   "source": [
    "### Ex. 5 Discretization Errors"
   ]
  },
  {
   "cell_type": "markdown",
   "metadata": {},
   "source": [
    "Program that illustrate the concept discretization.\n",
    "\n",
    "Replacing continuous with discrete, i.e. represent a continuous function on a interval with a finite number of points.\n",
    "\n",
    "Here, the derivative `f'(x)` is computed in a finite number of points on a interval. \n",
    "\n",
    "The density, the number of points is determined by the choice of the discretization parameter $h$.\n",
    "\n",
    "**NOTE**: $h$ should not be too large or too small. A good range is in $[10^{-5},1]$."
   ]
  },
  {
   "cell_type": "code",
   "execution_count": 21,
   "metadata": {
    "ExecuteTime": {
     "end_time": "2019-09-03T16:17:13.711756Z",
     "start_time": "2019-09-03T16:17:13.700957Z"
    }
   },
   "outputs": [],
   "source": [
    "h = 0.1"
   ]
  },
  {
   "cell_type": "code",
   "execution_count": 22,
   "metadata": {
    "ExecuteTime": {
     "end_time": "2019-09-03T16:17:13.747258Z",
     "start_time": "2019-09-03T16:17:13.722383Z"
    }
   },
   "outputs": [],
   "source": [
    "# The exact solution\n",
    "N = 400\n",
    "l = 0\n",
    "u = 2\n",
    "x = np.linspace(l, u, N)\n",
    "f_exa = np.exp(x)\n",
    "\n",
    "# check if h is too large or too small\n",
    "if h > 1 or h < 1e-5:\n",
    "    h = 0.5\n",
    "\n",
    "xh = np.linspace(l, u, int(abs(u-l)/h))\n",
    "\n",
    "fprimF = ForwardDiff(np.exp, xh, h);\n"
   ]
  },
  {
   "cell_type": "code",
   "execution_count": 23,
   "metadata": {
    "ExecuteTime": {
     "end_time": "2019-09-03T16:17:14.622770Z",
     "start_time": "2019-09-03T16:17:13.765449Z"
    }
   },
   "outputs": [
    {
     "data": {
      "image/png": "[encoded data removed]",
      "text/plain": [
       "<Figure size 432x288 with 1 Axes>"
      ]
     },
     "metadata": {
      "needs_background": "light"
     },
     "output_type": "display_data"
    }
   ],
   "source": [
    "# Plot\n",
    "fig, ax = plt.subplots(1)\n",
    "ax.plot(x, f_exa, color='blue')\n",
    "ax.plot(xh, fprimF, 'ro', clip_on=False)\n",
    "ax.set_xlim([0,2])\n",
    "ax.set_ylim([1,max(fprimF)])\n",
    "ax.set_xlabel(r'$x$')\n",
    "ax.set_ylabel('Derivatives')\n",
    "ax.set_title('Discretization Errors')\n",
    "ax.legend(['Exact Derivatives','Calculated Derivatives'])\n",
    "\n",
    "if saveFigure:\n",
    "    filename = 'DiscretizationError_h' + str(h) + '.pdf'\n",
    "    fig.savefig(filename, format='pdf', dpi=1000, bbox_inches='tight')\n"
   ]
  },
  {
   "cell_type": "markdown",
   "metadata": {},
   "source": [
    "## Computer Arithmetic"
   ]
  },
  {
   "cell_type": "markdown",
   "metadata": {},
   "source": [
    "Machine limits for floating point types use `np.finfo(float)`"
   ]
  },
  {
   "cell_type": "code",
   "execution_count": 24,
   "metadata": {
    "ExecuteTime": {
     "end_time": "2019-09-03T16:17:14.635999Z",
     "start_time": "2019-09-03T16:17:14.626193Z"
    }
   },
   "outputs": [
    {
     "name": "stdout",
     "output_type": "stream",
     "text": [
      "machhine epsilon in python is: 2.220446049250313e-16\n"
     ]
    }
   ],
   "source": [
    "print('machhine epsilon in python is: ' + str(np.finfo(float).eps))"
   ]
  },
  {
   "cell_type": "markdown",
   "metadata": {
    "ExecuteTime": {
     "end_time": "2019-09-03T15:33:20.610194Z",
     "start_time": "2019-09-03T15:33:20.603422Z"
    }
   },
   "source": [
    "The overflow in python is shown by `np.finfo(float).max` and the underflow by `np.finfo(float).tiny`"
   ]
  },
  {
   "cell_type": "code",
   "execution_count": 25,
   "metadata": {
    "ExecuteTime": {
     "end_time": "2019-09-03T16:17:14.650414Z",
     "start_time": "2019-09-03T16:17:14.644481Z"
    },
    "scrolled": true
   },
   "outputs": [
    {
     "name": "stdout",
     "output_type": "stream",
     "text": [
      "The largest real number in python is: 1.7976931348623157e+308\n",
      "The smallest positive real number in python is: 2.2250738585072014e-308\n"
     ]
    }
   ],
   "source": [
    "print('The largest real number in python is: ' + str(np.finfo(float).max))\n",
    "print('The smallest positive real number in python is: ' + str(np.finfo(float).tiny))"
   ]
  },
  {
   "cell_type": "markdown",
   "metadata": {
    "ExecuteTime": {
     "end_time": "2019-09-03T15:51:59.656611Z",
     "start_time": "2019-09-03T15:51:59.651864Z"
    }
   },
   "source": [
    "Other attributes of `finfo` can be found [here](https://docs.scipy.org/doc/numpy-1.15.1/reference/generated/numpy.finfo.html)"
   ]
  },
  {
   "cell_type": "markdown",
   "metadata": {},
   "source": [
    "## Computation of the derivative"
   ]
  },
  {
   "cell_type": "markdown",
   "metadata": {},
   "source": [
    "The function $f(x) = e^x$ in $x=1$ is used as test function.\n",
    "\n",
    "* forward difference: $\\displaystyle{f'(x)\\approx\\frac{f(x+h)-f(x)}{h}}$\n",
    "* central difference: $\\displaystyle{f'(x)\\approx\\frac{f(x+h)-f(x-h)}{2h}}$\n",
    "* five points difference: $\\displaystyle{f'(x)\\approx\\frac{-f(x+2h)+8f(x+h)-8f(x-h)+f(x-2h)}{12h}}$"
   ]
  },
  {
   "cell_type": "code",
   "execution_count": 26,
   "metadata": {
    "ExecuteTime": {
     "end_time": "2019-09-03T16:18:41.252204Z",
     "start_time": "2019-09-03T16:18:41.246938Z"
    }
   },
   "outputs": [],
   "source": [
    "# choose h from 0.1 to 10^-t, t>=2\n",
    "t = 15\n",
    "h = 10**np.linspace(-1,-t, 30)"
   ]
  },
  {
   "cell_type": "code",
   "execution_count": 27,
   "metadata": {
    "ExecuteTime": {
     "end_time": "2019-09-03T16:17:15.380855Z",
     "start_time": "2019-09-03T16:17:15.365815Z"
    }
   },
   "outputs": [],
   "source": [
    "# The exact derivative at x=1\n",
    "x = 1\n",
    "fprimExact = np.exp(1)\n",
    "\n",
    "# Numeric derivative using the three methods\n",
    "fprimF = ForwardDiff(np.exp, x, h);\n",
    "fprimC = CentralDiff(np.exp, x, h);\n",
    "fprim5 = FivePointsDiff(np.exp, x, h);\n",
    "\n",
    "# Relative error\n",
    "felF = abs(fprimExact - fprimF)/abs(fprimExact);\n",
    "felC = abs(fprimExact - fprimC)/abs(fprimExact);\n",
    "fel5 = abs(fprimExact - fprim5)/abs(fprimExact);\n"
   ]
  },
  {
   "cell_type": "code",
   "execution_count": 28,
   "metadata": {
    "ExecuteTime": {
     "end_time": "2019-09-03T16:18:24.951931Z",
     "start_time": "2019-09-03T16:18:23.983803Z"
    },
    "slideshow": {
     "slide_type": "slide"
    }
   },
   "outputs": [
    {
     "ename": "NameError",
     "evalue": "name 'SaveFigure' is not defined",
     "output_type": "error",
     "traceback": [
      "\u001b[0;31m---------------------------------------------------------------------------\u001b[0m",
      "\u001b[0;31mNameError\u001b[0m                                 Traceback (most recent call last)",
      "\u001b[0;32m<ipython-input-28-06159c774bd5>\u001b[0m in \u001b[0;36m<module>\u001b[0;34m\u001b[0m\n\u001b[1;32m      9\u001b[0m \u001b[0max\u001b[0m\u001b[0;34m.\u001b[0m\u001b[0mlegend\u001b[0m\u001b[0;34m(\u001b[0m\u001b[0;34m[\u001b[0m\u001b[0;34m'Forward difference'\u001b[0m\u001b[0;34m,\u001b[0m\u001b[0;34m'Central difference'\u001b[0m\u001b[0;34m,\u001b[0m \u001b[0;34m'Five points difference'\u001b[0m\u001b[0;34m]\u001b[0m\u001b[0;34m)\u001b[0m\u001b[0;34m\u001b[0m\u001b[0;34m\u001b[0m\u001b[0m\n\u001b[1;32m     10\u001b[0m \u001b[0;34m\u001b[0m\u001b[0m\n\u001b[0;32m---> 11\u001b[0;31m \u001b[0;32mif\u001b[0m \u001b[0mSaveFigure\u001b[0m\u001b[0;34m:\u001b[0m\u001b[0;34m\u001b[0m\u001b[0;34m\u001b[0m\u001b[0m\n\u001b[0m\u001b[1;32m     12\u001b[0m     \u001b[0mfilename\u001b[0m \u001b[0;34m=\u001b[0m \u001b[0;34m'NumericalDerivative.pdf'\u001b[0m\u001b[0;34m\u001b[0m\u001b[0;34m\u001b[0m\u001b[0m\n\u001b[1;32m     13\u001b[0m     \u001b[0mfig\u001b[0m\u001b[0;34m.\u001b[0m\u001b[0msavefig\u001b[0m\u001b[0;34m(\u001b[0m\u001b[0mfilename\u001b[0m\u001b[0;34m,\u001b[0m \u001b[0mformat\u001b[0m\u001b[0;34m=\u001b[0m\u001b[0;34m'pdf'\u001b[0m\u001b[0;34m,\u001b[0m \u001b[0mdpi\u001b[0m\u001b[0;34m=\u001b[0m\u001b[0;36m1000\u001b[0m\u001b[0;34m,\u001b[0m \u001b[0mbbox_inches\u001b[0m\u001b[0;34m=\u001b[0m\u001b[0;34m'tight'\u001b[0m\u001b[0;34m)\u001b[0m\u001b[0;34m\u001b[0m\u001b[0;34m\u001b[0m\u001b[0m\n",
      "\u001b[0;31mNameError\u001b[0m: name 'SaveFigure' is not defined"
     ]
    },
    {
     "data": {
      "image/png": "[encoded data removed]",
      "text/plain": [
       "<Figure size 432x288 with 1 Axes>"
      ]
     },
     "metadata": {
      "needs_background": "light"
     },
     "output_type": "display_data"
    }
   ],
   "source": [
    "# Plot\n",
    "fig, ax = plt.subplots(1)\n",
    "ax.loglog(h, felF)\n",
    "# ax.loglog(h, felC)\n",
    "# ax.loglog(h, fel5)\n",
    "ax.autoscale(enable=True, axis='x', tight=True)\n",
    "ax.set_xlabel(r'Step length $h$')\n",
    "ax.set_ylabel('Relative error')\n",
    "ax.legend(['Forward difference','Central difference', 'Five points difference'])\n",
    "\n",
    "if SaveFigure:\n",
    "    filename = 'NumericalDerivative.pdf'\n",
    "    fig.savefig(filename, format='pdf', dpi=1000, bbox_inches='tight')"
   ]
  },
  {
   "cell_type": "code",
   "execution_count": 38,
   "metadata": {},
   "outputs": [
    {
     "data": {
      "text/plain": [
       "0.00390625"
      ]
     },
     "execution_count": 38,
     "metadata": {},
     "output_type": "execute_result"
    }
   ],
   "source": [
    "\n",
    "2**(-8)"
   ]
  }
 ],
 "metadata": {
  "kernelspec": {
   "display_name": "Python 3",
   "language": "python",
   "name": "python3"
  },
  "language_info": {
   "codemirror_mode": {
    "name": "ipython",
    "version": 3
   },
   "file_extension": ".py",
   "mimetype": "text/x-python",
   "name": "python",
   "nbconvert_exporter": "python",
   "pygments_lexer": "ipython3",
   "version": "3.6.8"
  },
  "latex_envs": {
   "LaTeX_envs_menu_present": true,
   "autoclose": true,
   "autocomplete": true,
   "bibliofile": "biblio.bib",
   "cite_by": "apalike",
   "current_citInitial": 1,
   "eqLabelWithNumbers": true,
   "eqNumInitial": 1,
   "hotkeys": {
    "equation": "Ctrl-E",
    "itemize": "Ctrl-I"
   },
   "labels_anchors": false,
   "latex_user_defs": false,
   "report_style_numbering": false,
   "user_envs_cfg": false
  },
  "toc": {
   "base_numbering": 1,
   "nav_menu": {},
   "number_sections": true,
   "sideBar": true,
   "skip_h1_title": false,
   "title_cell": "Table of Contents",
   "title_sidebar": "Contents",
   "toc_cell": false,
   "toc_position": {},
   "toc_section_display": true,
   "toc_window_display": true
  },
  "varInspector": {
   "cols": {
    "lenName": 16,
    "lenType": 16,
    "lenVar": 40
   },
   "kernels_config": {
    "python": {
     "delete_cmd_postfix": "",
     "delete_cmd_prefix": "del ",
     "library": "var_list.py",
     "varRefreshCmd": "print(var_dic_list())"
    },
    "r": {
     "delete_cmd_postfix": ") ",
     "delete_cmd_prefix": "rm(",
     "library": "var_list.r",
     "varRefreshCmd": "cat(var_dic_list()) "
    }
   },
   "types_to_exclude": [
    "module",
    "function",
    "builtin_function_or_method",
    "instance",
    "_Feature"
   ],
   "window_display": false
  }
 },
 "nbformat": 4,
 "nbformat_minor": 4
}
